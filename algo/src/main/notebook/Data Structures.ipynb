{
 "cells": [
  {
   "cell_type": "markdown",
   "metadata": {},
   "source": [
    "## Stack"
   ]
  },
  {
   "cell_type": "code",
   "execution_count": 1,
   "metadata": {},
   "outputs": [
    {
     "name": "stdout",
     "output_type": "stream",
     "text": [
      "4321\n",
      "-4321\n",
      "0\n"
     ]
    }
   ],
   "source": [
    "num = 1234\n",
    "\n",
    "def reverse_int(num):\n",
    "    sign = -1 if num < 0 else 1\n",
    "    num_str = str(abs(num))\n",
    "    if int(num_str) > 2**31:\n",
    "        return 0\n",
    "    stack = [i for i in num_str]   \n",
    "    reversed = \"\".join([stack.pop() for i in range(len(stack))])\n",
    "    return int(reversed) * sign\n",
    "\n",
    "print(reverse_int(num))\n",
    "print(reverse_int(-num))\n",
    "print(reverse_int(-3039494994949494))"
   ]
  },
  {
   "cell_type": "code",
   "execution_count": 2,
   "metadata": {},
   "outputs": [],
   "source": [
    "from queue import Queue\n",
    "from queue import LifoQueue\n",
    "from collections import deque"
   ]
  },
  {
   "cell_type": "code",
   "execution_count": 3,
   "metadata": {},
   "outputs": [
    {
     "data": {
      "text/plain": [
       "'4321'"
      ]
     },
     "execution_count": 3,
     "metadata": {},
     "output_type": "execute_result"
    }
   ],
   "source": [
    "str(num)[::-1]"
   ]
  },
  {
   "cell_type": "code",
   "execution_count": 4,
   "metadata": {},
   "outputs": [
    {
     "name": "stdout",
     "output_type": "stream",
     "text": [
      "4321\n",
      "-4321\n",
      "0\n"
     ]
    }
   ],
   "source": [
    "def reverse_int(num):\n",
    "    sign = -1 if num < 0 else 1\n",
    "    num_str = str(abs(num))\n",
    "    if abs(num) > 2**31:\n",
    "        return 0\n",
    "    \n",
    "    return int(num_str[::-1]) * sign\n",
    "\n",
    "print(reverse_int(num))\n",
    "print(reverse_int(-num))\n",
    "print(reverse_int(-3039494994949494))"
   ]
  },
  {
   "cell_type": "code",
   "execution_count": 5,
   "metadata": {},
   "outputs": [
    {
     "name": "stdout",
     "output_type": "stream",
     "text": [
      "4321\n",
      "-4321\n",
      "-4949494994949303\n"
     ]
    }
   ],
   "source": [
    "def reverse_int_div(num):\n",
    "    sign = -1 if num < 0 else 1\n",
    "    num = abs(num)\n",
    "    reverse = 0\n",
    "    while num > 0:\n",
    "        reverse = reverse * 10 + num % 10\n",
    "        num = num //10\n",
    "    return reverse * sign\n",
    "        \n",
    "\n",
    "print(reverse_int_div(num))\n",
    "print(reverse_int_div(-num))\n",
    "print(reverse_int_div(-3039494994949494))"
   ]
  },
  {
   "cell_type": "code",
   "execution_count": 6,
   "metadata": {},
   "outputs": [
    {
     "name": "stdout",
     "output_type": "stream",
     "text": [
      "00000010100101000001111010011100\n",
      "00111001011110000010100101000000\n"
     ]
    }
   ],
   "source": [
    "def reverse_bits(num):\n",
    "    \n",
    "    trail_zero = []\n",
    "    for i in str(num):\n",
    "        if i is \"0\":\n",
    "            trail_zero.append(i)\n",
    "        else:\n",
    "            break\n",
    "            \n",
    "    num_str = list(str(int(num)))\n",
    "    num_str = num_str[::-1]\n",
    "    num_str = num_str + trail_zero\n",
    "    return \"\".join(num_str)\n",
    "\n",
    "num = \"00000010100101000001111010011100\"\n",
    "print(num)\n",
    "print(reverse_bits(num))"
   ]
  },
  {
   "cell_type": "code",
   "execution_count": 44,
   "metadata": {},
   "outputs": [
    {
     "name": "stdout",
     "output_type": "stream",
     "text": [
      "6079\n",
      "9706\n"
     ]
    }
   ],
   "source": [
    "def reverse_bits_for_int(num):\n",
    "    b_num = bin(num)[2:]\n",
    "    trail_zero = []\n",
    "    for i in str(b_num):\n",
    "        if i is \"0\":\n",
    "            trail_zero.append(i)\n",
    "        else:\n",
    "            break\n",
    "            \n",
    "    num_str = list(str(int(num)))\n",
    "    num_str = num_str[::-1]\n",
    "    num_str = num_str + trail_zero\n",
    "    \n",
    "    rev = 0\n",
    "    for exp, bit in enumerate(num_str[::-1]):\n",
    "        rev += int(bit) * 2 **exp\n",
    "        \n",
    "    return rev\n",
    "\n",
    "num = \"6079\"\n",
    "print(num)\n",
    "print(reverse_bits(num))"
   ]
  },
  {
   "cell_type": "code",
   "execution_count": 8,
   "metadata": {},
   "outputs": [
    {
     "data": {
      "text/plain": [
       "'0b111100011001000011'"
      ]
     },
     "execution_count": 8,
     "metadata": {},
     "output_type": "execute_result"
    }
   ],
   "source": [
    "bin(247363)"
   ]
  },
  {
   "cell_type": "code",
   "execution_count": 9,
   "metadata": {},
   "outputs": [
    {
     "name": "stdout",
     "output_type": "stream",
     "text": [
      "Counter({1: 4, 2: 4, 3: 2, 5: 2, 4: 1})\n",
      "dict_values([4, 4, 2, 1, 2])\n",
      "dict_keys([1, 2, 3, 4, 5])\n",
      "[(1, 4), (2, 4), (3, 2)]\n"
     ]
    }
   ],
   "source": [
    "import collections\n",
    "a = [1,1,1,1,2,2,2,2,3,3,4,5,5]\n",
    "counter=collections.Counter(a)\n",
    "print(counter)\n",
    "# Counter({1: 4, 2: 4, 3: 2, 5: 2, 4: 1})\n",
    "print(counter.values())\n",
    "# [4, 4, 2, 1, 2]\n",
    "print(counter.keys())\n",
    "# [1, 2, 3, 4, 5]\n",
    "print(counter.most_common(3))\n",
    "# [(1, 4), (2, 4), (3, 2)]"
   ]
  },
  {
   "cell_type": "code",
   "execution_count": 10,
   "metadata": {},
   "outputs": [
    {
     "name": "stdout",
     "output_type": "stream",
     "text": [
      "Counter({'s': 3, 'd': 3, 'g': 2, 'b': 1, 'h': 1, 'c': 1})\n",
      "dict_values([3, 1, 2, 1, 3, 1])\n",
      "dict_keys(['s', 'b', 'g', 'h', 'd', 'c'])\n",
      "[('s', 3), ('d', 3), ('g', 2)]\n"
     ]
    }
   ],
   "source": [
    "a = \"sssbghgdcdd\"\n",
    "counter=collections.Counter(a)\n",
    "print(counter)\n",
    "# Counter({1: 4, 2: 4, 3: 2, 5: 2, 4: 1})\n",
    "print(counter.values())\n",
    "# [4, 4, 2, 1, 2]\n",
    "print(counter.keys())\n",
    "# [1, 2, 3, 4, 5]\n",
    "print(counter.most_common(3))\n",
    "# [(1, 4), (2, 4), (3, 2)]"
   ]
  },
  {
   "cell_type": "code",
   "execution_count": 11,
   "metadata": {},
   "outputs": [
    {
     "ename": "NameError",
     "evalue": "name 'x' is not defined",
     "output_type": "error",
     "traceback": [
      "\u001b[0;31m---------------------------------------------------------------------------\u001b[0m",
      "\u001b[0;31mNameError\u001b[0m                                 Traceback (most recent call last)",
      "\u001b[0;32m<ipython-input-11-37295647bc9e>\u001b[0m in \u001b[0;36m<module>\u001b[0;34m\u001b[0m\n\u001b[1;32m      1\u001b[0m \u001b[0;32mfor\u001b[0m \u001b[0mk\u001b[0m\u001b[0;34m,\u001b[0m \u001b[0mv\u001b[0m \u001b[0;32min\u001b[0m \u001b[0mcounter\u001b[0m\u001b[0;34m.\u001b[0m\u001b[0mitems\u001b[0m\u001b[0;34m(\u001b[0m\u001b[0;34m)\u001b[0m\u001b[0;34m:\u001b[0m\u001b[0;34m\u001b[0m\u001b[0;34m\u001b[0m\u001b[0m\n\u001b[0;32m----> 2\u001b[0;31m     \u001b[0mx\u001b[0m \u001b[0;34m+=\u001b[0m \u001b[0mstr\u001b[0m\u001b[0;34m(\u001b[0m\u001b[0mk\u001b[0m\u001b[0;34m)\u001b[0m \u001b[0;34m+\u001b[0m \u001b[0mstr\u001b[0m\u001b[0;34m(\u001b[0m\u001b[0mv\u001b[0m\u001b[0;34m)\u001b[0m\u001b[0;34m\u001b[0m\u001b[0;34m\u001b[0m\u001b[0m\n\u001b[0m\u001b[1;32m      3\u001b[0m     \u001b[0mprint\u001b[0m \u001b[0;34m(\u001b[0m\u001b[0mx\u001b[0m\u001b[0;34m)\u001b[0m\u001b[0;34m\u001b[0m\u001b[0;34m\u001b[0m\u001b[0m\n",
      "\u001b[0;31mNameError\u001b[0m: name 'x' is not defined"
     ]
    }
   ],
   "source": [
    "for k, v in counter.items():\n",
    "    x += str(k) + str(v)\n",
    "    print (x)"
   ]
  },
  {
   "cell_type": "code",
   "execution_count": 21,
   "metadata": {},
   "outputs": [
    {
     "name": "stdout",
     "output_type": "stream",
     "text": [
      "{1: 4, 2: 4}\n",
      "dict_keys([1, 2])\n",
      "dict_values([4, 4])\n"
     ]
    }
   ],
   "source": [
    "a = [1,1,1,1,2,2,2,2,3,3,4,5,5]\n",
    "d = {x:a.count(x) for x in a if x in [1, 2]}\n",
    "print(d)\n",
    "a, b = d.keys(), d.values()\n",
    "print(a)\n",
    "print(b)"
   ]
  },
  {
   "cell_type": "code",
   "execution_count": 22,
   "metadata": {},
   "outputs": [
    {
     "data": {
      "text/plain": [
       "2"
      ]
     },
     "execution_count": 22,
     "metadata": {},
     "output_type": "execute_result"
    }
   ],
   "source": [
    "12 % 5"
   ]
  },
  {
   "cell_type": "code",
   "execution_count": 40,
   "metadata": {},
   "outputs": [
    {
     "name": "stdout",
     "output_type": "stream",
     "text": [
      "a2\n",
      "b3\n"
     ]
    }
   ],
   "source": [
    "w = \"aabbbccccdddddd\"\n",
    "z = {x:w.count(x) for x in w if x in \"ab\"}\n",
    "for k,v in z.items():\n",
    "    print(str(k) + str(v))"
   ]
  },
  {
   "cell_type": "code",
   "execution_count": 41,
   "metadata": {},
   "outputs": [
    {
     "ename": "ImportError",
     "evalue": "cannot import name 'counter' from 'collections' (/usr/local/Cellar/jupyterlab/1.2.6/libexec/lib/python3.7/collections/__init__.py)",
     "output_type": "error",
     "traceback": [
      "\u001b[0;31m---------------------------------------------------------------------------\u001b[0m",
      "\u001b[0;31mImportError\u001b[0m                               Traceback (most recent call last)",
      "\u001b[0;32m<ipython-input-41-f6250134118b>\u001b[0m in \u001b[0;36m<module>\u001b[0;34m\u001b[0m\n\u001b[0;32m----> 1\u001b[0;31m \u001b[0;32mfrom\u001b[0m \u001b[0mcollections\u001b[0m \u001b[0;32mimport\u001b[0m \u001b[0mcounter\u001b[0m\u001b[0;34m\u001b[0m\u001b[0;34m\u001b[0m\u001b[0m\n\u001b[0m\u001b[1;32m      2\u001b[0m \u001b[0mw\u001b[0m \u001b[0;34m=\u001b[0m \u001b[0;34m\"aabbbccccdddddd\"\u001b[0m\u001b[0;34m\u001b[0m\u001b[0;34m\u001b[0m\u001b[0m\n\u001b[1;32m      3\u001b[0m \u001b[0mcnter\u001b[0m \u001b[0;34m=\u001b[0m \u001b[0mCounter\u001b[0m\u001b[0;34m(\u001b[0m\u001b[0mw\u001b[0m\u001b[0;34m)\u001b[0m\u001b[0;34m\u001b[0m\u001b[0;34m\u001b[0m\u001b[0m\n\u001b[1;32m      4\u001b[0m \u001b[0mz\u001b[0m \u001b[0;34m=\u001b[0m \u001b[0;34m{\u001b[0m\u001b[0mx\u001b[0m\u001b[0;34m:\u001b[0m\u001b[0mw\u001b[0m\u001b[0;34m.\u001b[0m\u001b[0mcount\u001b[0m\u001b[0;34m(\u001b[0m\u001b[0mx\u001b[0m\u001b[0;34m)\u001b[0m \u001b[0;32mfor\u001b[0m \u001b[0mx\u001b[0m \u001b[0;32min\u001b[0m \u001b[0mw\u001b[0m \u001b[0;32mif\u001b[0m \u001b[0mx\u001b[0m \u001b[0;32min\u001b[0m \u001b[0;34m\"ab\"\u001b[0m\u001b[0;34m}\u001b[0m\u001b[0;34m\u001b[0m\u001b[0;34m\u001b[0m\u001b[0m\n\u001b[1;32m      5\u001b[0m \u001b[0;32mfor\u001b[0m \u001b[0mk\u001b[0m\u001b[0;34m,\u001b[0m\u001b[0mv\u001b[0m \u001b[0;32min\u001b[0m \u001b[0mcnter\u001b[0m\u001b[0;34m.\u001b[0m\u001b[0mitems\u001b[0m\u001b[0;34m(\u001b[0m\u001b[0;34m)\u001b[0m\u001b[0;34m:\u001b[0m\u001b[0;34m\u001b[0m\u001b[0;34m\u001b[0m\u001b[0m\n",
      "\u001b[0;31mImportError\u001b[0m: cannot import name 'counter' from 'collections' (/usr/local/Cellar/jupyterlab/1.2.6/libexec/lib/python3.7/collections/__init__.py)"
     ]
    }
   ],
   "source": [
    "from collections import counter\n",
    "w = \"aabbbccccdddddd\"\n",
    "cnter = Counter(w)\n",
    "z = {x:w.count(x) for x in w if x in \"ab\"}\n",
    "for k,v in cnter.items():\n",
    "    print(str(k) + str(v))"
   ]
  },
  {
   "cell_type": "code",
   "execution_count": 42,
   "metadata": {},
   "outputs": [
    {
     "name": "stdout",
     "output_type": "stream",
     "text": [
      "a<itertools._grouper object at 0x10e897850>\n",
      "b<itertools._grouper object at 0x10e8979d0>\n",
      "c<itertools._grouper object at 0x10e897ad0>\n",
      "d<itertools._grouper object at 0x10e892f10>\n"
     ]
    }
   ],
   "source": [
    "from itertools import groupby\n",
    "w = \"aabbbccccdddddd\"\n",
    "cnter = groupby(w)\n",
    "z = {x:w.count(x) for x in w if x in \"ab\"}\n",
    "for k,v in cnter:\n",
    "    print(str(k) + str(v))"
   ]
  },
  {
   "cell_type": "code",
   "execution_count": 33,
   "metadata": {},
   "outputs": [
    {
     "name": "stdout",
     "output_type": "stream",
     "text": [
      "23\n",
      "45\n"
     ]
    }
   ],
   "source": [
    "r = {2:3, 4:5}\n",
    "for k,v in r.items():\n",
    "    print(str(k) + str(v))"
   ]
  },
  {
   "cell_type": "code",
   "execution_count": null,
   "metadata": {},
   "outputs": [],
   "source": []
  }
 ],
 "metadata": {
  "kernelspec": {
   "display_name": "Python 3",
   "language": "python",
   "name": "python3"
  },
  "language_info": {
   "codemirror_mode": {
    "name": "ipython",
    "version": 3
   },
   "file_extension": ".py",
   "mimetype": "text/x-python",
   "name": "python",
   "nbconvert_exporter": "python",
   "pygments_lexer": "ipython3",
   "version": "3.8.4"
  }
 },
 "nbformat": 4,
 "nbformat_minor": 2
}
