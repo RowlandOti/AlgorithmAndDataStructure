{
 "cells": [
  {
   "cell_type": "markdown",
   "metadata": {},
   "source": [
    "# Graph representation Using:"
   ]
  },
  {
   "cell_type": "markdown",
   "metadata": {},
   "source": [
    "### Adjacency Matrix"
   ]
  },
  {
   "cell_type": "code",
   "execution_count": 2,
   "metadata": {},
   "outputs": [],
   "source": [
    "class AdjacencyMatrixGraph : \n",
    "    def __init__(self, num_verts, is_directed = False):\n",
    "        self.num_verts = num_verts\n",
    "        self.is_directed = is_directed\n",
    "        self.matrix =  [[0 for col in range(num_verts)] for row in range(num_verts)]\n",
    "        \n",
    "    def add_edge(self, v1, v2, weight = 1):\n",
    "        self.matrix[v1][v2] = weight\n",
    "        if not self.is_directed :\n",
    "            self.matrix[v2][v1] = weight\n",
    "            \n",
    "    def get_adjacent_vertices(self, v1):\n",
    "        adjacent_verts = []\n",
    "        for i in range(self.num_verts):\n",
    "            if self.matrix[v1][i] == 1:\n",
    "                adjacent_verts.append(i)\n",
    "        return adjacent_verts\n",
    "    \n",
    "    def get_in_degree(self, v1):\n",
    "        in_degree = 0\n",
    "        for i in range(self.num_verts):\n",
    "            if self.matrix[i][v1] == 1:\n",
    "                in_degree += 1\n",
    "        return in_degree\n",
    "    \n",
    "    def get_edge_weight(self, v1, v2):\n",
    "        return self.matrix[v1][v2]\n",
    "        "
   ]
  },
  {
   "cell_type": "code",
   "execution_count": 3,
   "metadata": {},
   "outputs": [
    {
     "name": "stdout",
     "output_type": "stream",
     "text": [
      "[[0, 0, 0, 0], [0, 0, 0, 0], [0, 0, 0, 0], [0, 0, 0, 0]]\n",
      "[[0, 1, 0, 1], [1, 0, 0, 1], [0, 0, 0, 1], [1, 1, 1, 0]]\n",
      "Vert: 0 is adjacent to --> [1, 3]\n",
      "Vert: 1 is adjacent to --> [0, 3]\n",
      "Vert: 2 is adjacent to --> [3]\n",
      "Vert: 3 is adjacent to --> [0, 1, 2]\n",
      "Vert: 0 has in degree --> 2\n",
      "Vert: 1 has in degree --> 2\n",
      "Vert: 2 has in degree --> 1\n",
      "Vert: 3 has in degree --> 3\n",
      "Edge: (0 1) has weight --> 1\n",
      "Edge: (0 3) has weight --> 1\n",
      "Edge: (1 0) has weight --> 1\n",
      "Edge: (1 3) has weight --> 1\n",
      "Edge: (2 3) has weight --> 1\n",
      "Edge: (3 0) has weight --> 1\n",
      "Edge: (3 1) has weight --> 1\n",
      "Edge: (3 2) has weight --> 1\n"
     ]
    }
   ],
   "source": [
    "graph = AdjacencyMatrixGraph(4)\n",
    "\n",
    "print(graph.matrix)\n",
    "\n",
    "graph.add_edge(0,1)\n",
    "graph.add_edge(2,3)\n",
    "graph.add_edge(3,1)\n",
    "graph.add_edge(0,3)\n",
    "\n",
    "print(graph.matrix)\n",
    "\n",
    "for j in range(graph.num_verts):\n",
    "    print(\"Vert: {0} is adjacent to --> {1}\".format(j, graph.get_adjacent_vertices(j)))\n",
    "    \n",
    "for j in range(graph.num_verts):\n",
    "    print(\"Vert: {0} has in degree --> {1}\".format(j, graph.get_in_degree(j)))\n",
    "    \n",
    "for i in range(graph.num_verts):\n",
    "    for j in range(graph.num_verts):\n",
    "        if graph.matrix[i][j] == 1:\n",
    "            print(\"Edge: ({0} {1}) has weight --> {2}\".format(i, j, graph.get_edge_weight(i,j)))"
   ]
  },
  {
   "cell_type": "code",
   "execution_count": 4,
   "metadata": {},
   "outputs": [
    {
     "name": "stdout",
     "output_type": "stream",
     "text": [
      "[[0, 0, 0, 0], [0, 0, 0, 0], [0, 0, 0, 0], [0, 0, 0, 0]]\n",
      "[[0, 1, 0, 1], [1, 0, 0, 1], [0, 0, 0, 1], [1, 1, 1, 0]]\n",
      "Vert: 0 is adjacent to --> [1, 3]\n",
      "Vert: 1 is adjacent to --> [0, 3]\n",
      "Vert: 2 is adjacent to --> [3]\n",
      "Vert: 3 is adjacent to --> [0, 1, 2]\n",
      "Vert: 0 has in degree --> 2\n",
      "Vert: 1 has in degree --> 2\n",
      "Vert: 2 has in degree --> 1\n",
      "Vert: 3 has in degree --> 3\n",
      "Edge: (0 1) has weight --> 1\n",
      "Edge: (0 3) has weight --> 1\n",
      "Edge: (1 0) has weight --> 1\n",
      "Edge: (1 3) has weight --> 1\n",
      "Edge: (2 3) has weight --> 1\n",
      "Edge: (3 0) has weight --> 1\n",
      "Edge: (3 1) has weight --> 1\n",
      "Edge: (3 2) has weight --> 1\n"
     ]
    }
   ],
   "source": [
    "graph = AdjacencyMatrixGraph(4, False)\n",
    "\n",
    "print(graph.matrix)\n",
    "\n",
    "graph.add_edge(0,1)\n",
    "graph.add_edge(2,3)\n",
    "graph.add_edge(3,1)\n",
    "graph.add_edge(0,3)\n",
    "\n",
    "print(graph.matrix)\n",
    "\n",
    "for j in range(graph.num_verts):\n",
    "    print(\"Vert: {0} is adjacent to --> {1}\".format(j, graph.get_adjacent_vertices(j)))\n",
    "    \n",
    "for j in range(graph.num_verts):\n",
    "    print(\"Vert: {0} has in degree --> {1}\".format(j, graph.get_in_degree(j)))\n",
    "    \n",
    "for i in range(graph.num_verts):\n",
    "    for j in range(graph.num_verts):\n",
    "        if graph.matrix[i][j] == 1:\n",
    "            print(\"Edge: ({0} {1}) has weight --> {2}\".format(i, j, graph.get_edge_weight(i,j)))"
   ]
  },
  {
   "cell_type": "markdown",
   "metadata": {},
   "source": [
    "### Adjacency Set"
   ]
  },
  {
   "cell_type": "code",
   "execution_count": 5,
   "metadata": {},
   "outputs": [],
   "source": [
    "class AdjacencySetGraph : \n",
    "    def __init__(self, num_verts, is_directed = False):\n",
    "        self.num_verts = num_verts\n",
    "        self.is_directed = is_directed\n",
    "        self.vertex_list = []\n",
    "        \n",
    "        for i in range(self.num_verts):\n",
    "            self.vertex_list.append(Node(i)) \n",
    "        \n",
    "    def add_edge(self, v1, v2, weight = 1):\n",
    "        self.vertex_list[v1].add_edge(v2) \n",
    "        if not self.is_directed :\n",
    "            self.vertex_list[v2].add_edge(v1)\n",
    "            \n",
    "    def get_adjacent_vertices(self, v):\n",
    "        return self.vertex_list[v].get_adjacent_vertices()\n",
    "    \n",
    "    def get_in_degree(self, v):\n",
    "        in_degree = 0\n",
    "        for i in range(self.num_verts):\n",
    "            if v in self.vertex_list[i].get_adjacent_vertices():\n",
    "                in_degree += 1\n",
    "        return in_degree\n",
    "    \n",
    "    def get_edge_weight(self, v1, v2):\n",
    "        return 1\n",
    "\n",
    "class Node:\n",
    "    def __init__(self, vertex_id):\n",
    "        self.vertex_id = vertex_id\n",
    "        self.adjacency_set = set()\n",
    "        \n",
    "    def add_edge(self, v):\n",
    "        self.adjacency_set.add(v)\n",
    "    \n",
    "    def get_adjacent_vertices(self):\n",
    "        return sorted(self.adjacency_set)"
   ]
  },
  {
   "cell_type": "code",
   "execution_count": 6,
   "metadata": {},
   "outputs": [
    {
     "name": "stdout",
     "output_type": "stream",
     "text": [
      "Vert: 0 is adjacent to --> [1]\n",
      "Vert: 1 is adjacent to --> [2]\n",
      "Vert: 2 is adjacent to --> [3]\n",
      "Vert: 3 is adjacent to --> []\n",
      "Vert: 0 has in degree --> 0\n",
      "Vert: 1 has in degree --> 1\n",
      "Vert: 2 has in degree --> 1\n",
      "Vert: 3 has in degree --> 1\n",
      "Edge: (0 0) has weight --> 1\n",
      "Edge: (0 1) has weight --> 1\n",
      "Edge: (0 2) has weight --> 1\n",
      "Edge: (0 3) has weight --> 1\n",
      "Edge: (1 0) has weight --> 1\n",
      "Edge: (1 1) has weight --> 1\n",
      "Edge: (1 2) has weight --> 1\n",
      "Edge: (1 3) has weight --> 1\n",
      "Edge: (2 0) has weight --> 1\n",
      "Edge: (2 1) has weight --> 1\n",
      "Edge: (2 2) has weight --> 1\n",
      "Edge: (2 3) has weight --> 1\n",
      "Edge: (3 0) has weight --> 1\n",
      "Edge: (3 1) has weight --> 1\n",
      "Edge: (3 2) has weight --> 1\n",
      "Edge: (3 3) has weight --> 1\n"
     ]
    }
   ],
   "source": [
    "graph = AdjacencySetGraph(4, True)\n",
    "\n",
    "graph.add_edge(0,1)\n",
    "graph.add_edge(2,3)\n",
    "graph.add_edge(1,2)\n",
    "\n",
    "for j in range(graph.num_verts):\n",
    "    print(\"Vert: {0} is adjacent to --> {1}\".format(j, graph.get_adjacent_vertices(j)))\n",
    "    \n",
    "for j in range(graph.num_verts):\n",
    "    print(\"Vert: {0} has in degree --> {1}\".format(j, graph.get_in_degree(j)))\n",
    "    \n",
    "for i in range(graph.num_verts):\n",
    "    for j in range(graph.num_verts):\n",
    "        if graph.vertex_list[i] is not None:\n",
    "            print(\"Edge: ({0} {1}) has weight --> {2}\".format(i, j, graph.get_edge_weight(i,j)))"
   ]
  },
  {
   "cell_type": "markdown",
   "metadata": {},
   "source": [
    "## Breadth First Search (BFS)"
   ]
  },
  {
   "cell_type": "code",
   "execution_count": 7,
   "metadata": {},
   "outputs": [],
   "source": [
    "from queue import Queue"
   ]
  },
  {
   "cell_type": "code",
   "execution_count": 8,
   "metadata": {},
   "outputs": [],
   "source": [
    "def bfs(graph, start=2):\n",
    "    queue = Queue()\n",
    "    queue.put(start)\n",
    "    \n",
    "    visited = [0 for col in range(graph.num_verts)]\n",
    "    \n",
    "    while not queue.empty():\n",
    "        vertex = queue.get()\n",
    "        if visited[vertex] == 1:\n",
    "            continue\n",
    "        visited[vertex] = 1\n",
    "        print (\"Visited {0}\".format(vertex))\n",
    "        \n",
    "        for v in graph.get_adjacent_vertices(vertex):\n",
    "            if visited[v] != 1:\n",
    "                queue.put(v)\n",
    "    "
   ]
  },
  {
   "cell_type": "code",
   "execution_count": 9,
   "metadata": {},
   "outputs": [
    {
     "name": "stdout",
     "output_type": "stream",
     "text": [
      "Visited 2\n",
      "Visited 3\n"
     ]
    }
   ],
   "source": [
    "bfs(graph)"
   ]
  },
  {
   "cell_type": "code",
   "execution_count": 10,
   "metadata": {},
   "outputs": [],
   "source": [
    "def dfs(graph, visited, current=0):\n",
    "    if visited[current] == 1:\n",
    "        return\n",
    "    visited[current] = 1\n",
    "    print(\"Visited {0}\".format(current))\n",
    "    \n",
    "    for v in graph.get_adjacent_vertices(current):\n",
    "        dfs(graph, visited, v)\n",
    "        "
   ]
  },
  {
   "cell_type": "code",
   "execution_count": 11,
   "metadata": {},
   "outputs": [
    {
     "name": "stdout",
     "output_type": "stream",
     "text": [
      "Visited 0\n",
      "Visited 1\n",
      "Visited 2\n",
      "Visited 3\n"
     ]
    }
   ],
   "source": [
    "visited = [0 for col in range(graph.num_verts)]\n",
    "dfs(graph, visited, 0)"
   ]
  },
  {
   "cell_type": "code",
   "execution_count": 12,
   "metadata": {},
   "outputs": [],
   "source": [
    "def dfsRecursive(graph, start=2):\n",
    "    stack =[ ]\n",
    "    stack.append(start)\n",
    "    \n",
    "    visited = [0 for col in range(graph.num_verts)]\n",
    "    \n",
    "    while  len(stack) > 0:\n",
    "        vertex = stack.pop()\n",
    "        if visited[vertex] == 1:\n",
    "            continue\n",
    "        visited[vertex] = 1\n",
    "        print (\"Visited {0}\".format(vertex))\n",
    "        \n",
    "        for v in graph.get_adjacent_vertices(vertex):\n",
    "            if visited[v] != 1:\n",
    "                stack.append(v)\n",
    "    "
   ]
  },
  {
   "cell_type": "code",
   "execution_count": 14,
   "metadata": {},
   "outputs": [
    {
     "name": "stdout",
     "output_type": "stream",
     "text": [
      "Visited 0\n",
      "Visited 1\n",
      "Visited 2\n",
      "Visited 3\n"
     ]
    }
   ],
   "source": [
    "visited = [0 for col in range(graph.num_verts)]\n",
    "dfsRecursive(graph, 0)"
   ]
  },
  {
   "cell_type": "markdown",
   "metadata": {},
   "source": [
    "## Topological Sort\n",
    "\n",
    "Is used to establish precendence relationships (dependencies), since it is used on Directed Acyclic Graph (DAG). It is the ordering of all graph's vertices to satisfy all precendence relationships."
   ]
  },
  {
   "cell_type": "code",
   "execution_count": 15,
   "metadata": {},
   "outputs": [],
   "source": [
    "def topological_sort(graph):\n",
    "    queue = Queue()\n",
    "    in_degree_map = {}\n",
    "    \n",
    "    for v in range(graph.num_verts):\n",
    "        in_degree_map[v] = graph.get_in_degree(v)\n",
    "        \n",
    "        if in_degree_map[v] == 0:\n",
    "            queue.put(v)\n",
    "            \n",
    "    sorted_list = []\n",
    "    \n",
    "    while not queue.empty():\n",
    "        vertex = queue.get()\n",
    "        sorted_list.append(vertex)\n",
    "        \n",
    "        for v in graph.get_adjacent_vertices(vertex):\n",
    "            in_degree_map[v] -= 1\n",
    "            \n",
    "            if in_degree_map[v] == 0:\n",
    "                queue.put(v)\n",
    "                \n",
    "    if len(sorted_list) != graph.num_verts:\n",
    "        raise ValueError(\"This graph is not a DAG - has a cycle\")\n",
    "    \n",
    "    return sorted_list"
   ]
  },
  {
   "cell_type": "code",
   "execution_count": 16,
   "metadata": {},
   "outputs": [
    {
     "data": {
      "text/plain": [
       "[0, 1, 2, 3]"
      ]
     },
     "execution_count": 16,
     "metadata": {},
     "output_type": "execute_result"
    }
   ],
   "source": [
    "topological_sort(graph)"
   ]
  },
  {
   "cell_type": "markdown",
   "metadata": {},
   "source": [
    "## Shorted Path Algorithm \n",
    "\n",
    "Used to find the lowest cost/ shorted path between a source node and a destination node"
   ]
  },
  {
   "cell_type": "markdown",
   "metadata": {},
   "source": [
    "#### Unweighted Shortest path algorithm \n",
    "\n",
    "We travel backwards from the destination node, as we do lookup into the distance table. Use a stack for back tracking"
   ]
  },
  {
   "cell_type": "code",
   "execution_count": 17,
   "metadata": {},
   "outputs": [],
   "source": [
    "from collections import defaultdict "
   ]
  },
  {
   "cell_type": "code",
   "execution_count": 18,
   "metadata": {},
   "outputs": [],
   "source": [
    "def build_distance_table(graph, source):\n",
    "    queue = Queue()\n",
    "    distance_table = {}\n",
    "    \n",
    "    for i in range(graph.num_verts):\n",
    "        distance_table[i] = (None, None)\n",
    "    \n",
    "    distance_table[source] = (0, source)\n",
    "    queue.put(source)\n",
    "    \n",
    "    while not queue.empty():\n",
    "        current_vertex = queue.get()\n",
    "        current_distance = distance_table[current_vertex][0]\n",
    "        for neighbour in graph.get_adjacent_vertices(current_vertex):\n",
    "            if distance_table[neighbour][0] is None:\n",
    "                distance_table[neighbour] = (current_distance + 1, current_vertex)\n",
    "                \n",
    "            if len(graph.get_adjacent_vertices(neighbour)) > 0:\n",
    "                queue.put(neighbour)\n",
    "                \n",
    "    return distance_table"
   ]
  },
  {
   "cell_type": "code",
   "execution_count": 19,
   "metadata": {},
   "outputs": [
    {
     "data": {
      "text/plain": [
       "{0: (0, 0), 1: (1, 0), 2: (2, 1), 3: (3, 2)}"
      ]
     },
     "execution_count": 19,
     "metadata": {},
     "output_type": "execute_result"
    }
   ],
   "source": [
    "build_distance_table(graph, 0)"
   ]
  },
  {
   "cell_type": "code",
   "execution_count": 20,
   "metadata": {},
   "outputs": [],
   "source": [
    "def get_shortest_path(graph, source, destination):\n",
    "    distance_table = build_distance_table(graph,source)\n",
    "    \n",
    "    path = [destination]\n",
    "    preceding_vertex = distance_table[destination][1]\n",
    "    \n",
    "    while preceding_vertex is not None and preceding_vertex is not source:\n",
    "        path = [preceding_vertex] + path\n",
    "        preceding_vertex = distance_table[preceding_vertex][1]\n",
    "        \n",
    "    if preceding_vertex is None: \n",
    "        print(\"There is no path from {0} to {1}\".format(source, destination))\n",
    "    else:\n",
    "        path = [source] + path\n",
    "        return path\n",
    "    "
   ]
  },
  {
   "cell_type": "code",
   "execution_count": 21,
   "metadata": {},
   "outputs": [
    {
     "data": {
      "text/plain": [
       "[0, 1, 2, 3]"
      ]
     },
     "execution_count": 21,
     "metadata": {},
     "output_type": "execute_result"
    }
   ],
   "source": [
    "get_shortest_path(graph, 0, 3)"
   ]
  },
  {
   "cell_type": "code",
   "execution_count": 3,
   "metadata": {},
   "outputs": [
    {
     "data": {
      "text/plain": [
       "2"
      ]
     },
     "execution_count": 3,
     "metadata": {},
     "output_type": "execute_result"
    }
   ],
   "source": [
    "\n",
    "s = \"acbcbba\"\n",
    "s.count(\"a\")\n"
   ]
  },
  {
   "cell_type": "code",
   "execution_count": null,
   "metadata": {},
   "outputs": [],
   "source": []
  }
 ],
 "metadata": {
  "kernelspec": {
   "display_name": "Python 3",
   "language": "python",
   "name": "python3"
  },
  "language_info": {
   "codemirror_mode": {
    "name": "ipython",
    "version": 3
   },
   "file_extension": ".py",
   "mimetype": "text/x-python",
   "name": "python",
   "nbconvert_exporter": "python",
   "pygments_lexer": "ipython3",
   "version": "3.8.4"
  }
 },
 "nbformat": 4,
 "nbformat_minor": 2
}
