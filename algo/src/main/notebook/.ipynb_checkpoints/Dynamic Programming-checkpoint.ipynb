{
 "cells": [
  {
   "cell_type": "code",
   "execution_count": 21,
   "metadata": {},
   "outputs": [],
   "source": [
    "import time"
   ]
  },
  {
   "cell_type": "markdown",
   "metadata": {},
   "source": [
    "## Fibonacci Problem\n",
    "Write a function that given a number n, returns the fibonacci number\n",
    "- n are all positive numbers"
   ]
  },
  {
   "cell_type": "code",
   "execution_count": 22,
   "metadata": {
    "scrolled": true
   },
   "outputs": [
    {
     "name": "stdout",
     "output_type": "stream",
     "text": [
      "Please enter number n: 5\n"
     ]
    }
   ],
   "source": [
    "num = int(input(\"Please enter number n: \"))\n",
    "if num < 0: \n",
    "    print(\"Please enter only +ve integers for n\")"
   ]
  },
  {
   "cell_type": "code",
   "execution_count": 23,
   "metadata": {},
   "outputs": [
    {
     "name": "stdout",
     "output_type": "stream",
     "text": [
      "8\n",
      "Run in  0.00023698806762695312 ms\n"
     ]
    }
   ],
   "source": [
    "# Iteration\n",
    "def iterative_fib(n):\n",
    "    a = 1\n",
    "    b = 1\n",
    "    for i in range(2, n+1):\n",
    "        c = a + b\n",
    "        a = b\n",
    "        b = c\n",
    "    return b\n",
    "\n",
    "start = time.time()\n",
    "print(iterative_fib(num))\n",
    "end = time.time()\n",
    "print(\"{} {} {}\".format(\"Run in \", end - start, \"ms\"))"
   ]
  },
  {
   "cell_type": "code",
   "execution_count": 24,
   "metadata": {},
   "outputs": [
    {
     "name": "stdout",
     "output_type": "stream",
     "text": [
      "[0, 1, 1, 2, 3, 5]\n",
      "5\n",
      "Run in  0.0002980232238769531 ms\n"
     ]
    }
   ],
   "source": [
    "def iterative_fib2(n):                                                                                                 \n",
    "    fibs = [0, 1]                                                                                           \n",
    "    for i in range(1, n):                                                                                      \n",
    "        fibs.append(fibs[-1] + fibs[-2]) \n",
    "    print(fibs)\n",
    "    return fibs[n]\n",
    "\n",
    "start = time.time()\n",
    "print(iterative_fib2(num))\n",
    "end = time.time()\n",
    "print(\"{} {} {}\".format(\"Run in \", end - start, \"ms\"))"
   ]
  },
  {
   "cell_type": "code",
   "execution_count": 25,
   "metadata": {},
   "outputs": [
    {
     "name": "stdout",
     "output_type": "stream",
     "text": [
      "5\n",
      "Run in  0.00017499923706054688 ms\n"
     ]
    }
   ],
   "source": [
    "# Recursion\n",
    "\n",
    "def fib(n):\n",
    "    if n == 0:\n",
    "        result = 0\n",
    "    elif n == 1:\n",
    "        result = 1\n",
    "    else:\n",
    "        result =  fib(n-1) + fib(n-2)\n",
    "    return result\n",
    "\n",
    "\n",
    "start = time.time()\n",
    "print(fib(num))\n",
    "end = time.time()\n",
    "print(\"{} {} {}\".format(\"Run in \", end - start, \"ms\"))"
   ]
  },
  {
   "cell_type": "code",
   "execution_count": 26,
   "metadata": {},
   "outputs": [
    {
     "name": "stdout",
     "output_type": "stream",
     "text": [
      "5\n",
      "Run in  0.0005137920379638672 ms\n"
     ]
    }
   ],
   "source": [
    "# Recursion with memoization\n",
    "\n",
    "def fib_mem(n, mem):\n",
    "    if mem[n] is not None:\n",
    "        return mem[n]\n",
    "    elif n == 0:\n",
    "        result = 0\n",
    "    elif n == 1:\n",
    "        result = 1\n",
    "    else:\n",
    "        result =  fib_mem(n-1, mem) + fib_mem(n-2, mem)\n",
    "    mem.append(result)\n",
    "    return result\n",
    "\n",
    "start = time.time()\n",
    "mem = [None] *(num + 1)\n",
    "print(fib_mem(num, mem))\n",
    "end = time.time()\n",
    "print(\"{} {} {}\".format(\"Run in \", end - start, \"ms\"))"
   ]
  },
  {
   "cell_type": "code",
   "execution_count": 27,
   "metadata": {},
   "outputs": [
    {
     "name": "stdout",
     "output_type": "stream",
     "text": [
      "5\n",
      "Run in  0.0002777576446533203 ms\n"
     ]
    }
   ],
   "source": [
    "# Bottom Up \n",
    "def fib_bottom_up(n):\n",
    "    mem = [None] * (n + 1)\n",
    "    mem[0] = 0\n",
    "    mem[1] = 1\n",
    "    \n",
    "    for i in range(2, n+1):\n",
    "        mem[i] = mem[i -1] + mem [i -2]\n",
    "       \n",
    "    return mem[n]\n",
    "                   \n",
    "start = time.time()\n",
    "print(fib_bottom_up(num))\n",
    "end = time.time()\n",
    "print(\"{} {} {}\".format(\"Run in \", end - start, \"ms\"))"
   ]
  },
  {
   "cell_type": "markdown",
   "metadata": {},
   "source": [
    "## Two Sum Problem\n",
    "Write a function that given an array of numbers `num`, and target `target`, returns a list of the indexes of the two numbers that sum upto the target\n",
    "- num contains all positive numbers"
   ]
  },
  {
   "cell_type": "code",
   "execution_count": 28,
   "metadata": {},
   "outputs": [],
   "source": [
    "nums = [1,2,3,4]\n",
    "target = 5"
   ]
  },
  {
   "cell_type": "code",
   "execution_count": 29,
   "metadata": {},
   "outputs": [
    {
     "name": "stdout",
     "output_type": "stream",
     "text": [
      "0\n",
      "[1, 4]\n",
      "Run in  0.0002808570861816406 ms\n"
     ]
    }
   ],
   "source": [
    "def two_sum(nums, target):\n",
    "    for key, num in enumerate(nums):\n",
    "        print(key)\n",
    "        rem = target - num\n",
    "        if(rem in nums):\n",
    "            return [num, rem]\n",
    "\n",
    "start = time.time()\n",
    "print(two_sum(nums, target))\n",
    "end = time.time()\n",
    "print(\"{} {} {}\".format(\"Run in \", end - start, \"ms\"))"
   ]
  },
  {
   "cell_type": "code",
   "execution_count": 35,
   "metadata": {},
   "outputs": [],
   "source": [
    "nums = [10,15,3,7]\n",
    "target = 17"
   ]
  },
  {
   "cell_type": "code",
   "execution_count": 50,
   "metadata": {},
   "outputs": [
    {
     "name": "stdout",
     "output_type": "stream",
     "text": [
      "0\n",
      "1\n",
      "[7, 10]\n",
      "Run in  0.0006201267242431641 ms\n"
     ]
    }
   ],
   "source": [
    "start = time.time()\n",
    "print(two_sum(nums, target))\n",
    "end = time.time()\n",
    "print(\"{} {} {}\".format(\"Run in \", end - start, \"ms\"))"
   ]
  },
  {
   "cell_type": "code",
   "execution_count": 54,
   "metadata": {},
   "outputs": [
    {
     "name": "stdout",
     "output_type": "stream",
     "text": [
      "start + end 3 +  15 = 18\n",
      "start + end 3 +  10 = 13\n",
      "start + end 7 +  10 = 17\n",
      "[7, 10]\n",
      "Run in  0.0003578662872314453 ms\n"
     ]
    }
   ],
   "source": [
    "def two_sum_sliding(nums, target):\n",
    "    nums.sort()\n",
    "    start = 0\n",
    "    end = len(nums) - 1\n",
    "    result = []\n",
    "    while(start <= end):\n",
    "        summ = nums[start] + nums[end]\n",
    "        print(\"start + end {} +  {} = {}\".format(nums[start] , nums[end], summ))\n",
    "        if summ == target:\n",
    "            result.append([nums[start], nums[end]])\n",
    "            break\n",
    "        elif summ > target:\n",
    "            end = end - 1\n",
    "        else:\n",
    "            start = start + 1\n",
    "    return result[0]\n",
    "            \n",
    "        \n",
    "\n",
    "start = time.time()\n",
    "print(two_sum_sliding(nums, target))\n",
    "end = time.time()\n",
    "print(\"{} {} {}\".format(\"Run in \", end - start, \"ms\"))"
   ]
  },
  {
   "cell_type": "markdown",
   "metadata": {},
   "source": [
    "Account for scenarios where we have more than one set as answer"
   ]
  },
  {
   "cell_type": "code",
   "execution_count": 55,
   "metadata": {},
   "outputs": [
    {
     "name": "stdout",
     "output_type": "stream",
     "text": [
      "[]\n",
      "[(7, 10)]\n",
      "[(7, 10), (10, 7)]\n",
      "Run in  0.00030303001403808594 ms\n"
     ]
    }
   ],
   "source": [
    "def two_sum(nums, target):\n",
    "    answer = []\n",
    "    for key, num in enumerate(nums):\n",
    "        rem = target - num\n",
    "        if(rem in nums):\n",
    "            if not rem in answer:\n",
    "                print(answer)\n",
    "                answer.append((num, rem))\n",
    "    return answer\n",
    "\n",
    "start = time.time()\n",
    "print(two_sum(nums, target))\n",
    "end = time.time()\n",
    "print(\"{} {} {}\".format(\"Run in \", end - start, \"ms\"))"
   ]
  },
  {
   "cell_type": "markdown",
   "metadata": {},
   "source": [
    "We do not like the redundancy. Please resolve it"
   ]
  },
  {
   "cell_type": "code",
   "execution_count": 56,
   "metadata": {},
   "outputs": [
    {
     "name": "stdout",
     "output_type": "stream",
     "text": [
      "[(7, 10)]\n",
      "Run in  0.0003399848937988281 ms\n"
     ]
    }
   ],
   "source": [
    "def two_sum(nums, target):\n",
    "    answer = []\n",
    "    num_2_index = {}\n",
    "    for index, num in enumerate(nums):\n",
    "        rem = target - num\n",
    "        if rem in num_2_index:\n",
    "            answer.append((rem, num))\n",
    "        num_2_index[num] = index\n",
    "    return answer\n",
    "\n",
    "start = time.time()\n",
    "print(two_sum(nums, target))\n",
    "end = time.time()\n",
    "print(\"{} {} {}\".format(\"Run in \", end - start, \"ms\"))"
   ]
  },
  {
   "cell_type": "markdown",
   "metadata": {},
   "source": [
    "Return only the indexes of the items"
   ]
  },
  {
   "cell_type": "code",
   "execution_count": 15,
   "metadata": {},
   "outputs": [
    {
     "name": "stdout",
     "output_type": "stream",
     "text": [
      "[(1, 2), (0, 3)]\n",
      "Run in  0.00032401084899902344 ms\n"
     ]
    }
   ],
   "source": [
    "def two_sum(nums, target):\n",
    "    \n",
    "    answer = []\n",
    "    num_2_index = {}\n",
    "    for index, num in enumerate(nums):\n",
    "        rem = target - num\n",
    "        if rem in num_2_index:\n",
    "            answer.append((num_2_index[rem], index)) \n",
    "        num_2_index[num] = index\n",
    "    return answer\n",
    "\n",
    "start = time.time()\n",
    "print(two_sum(nums, target))\n",
    "end = time.time()\n",
    "print(\"{} {} {}\".format(\"Run in \", end - start, \"ms\"))"
   ]
  },
  {
   "cell_type": "markdown",
   "metadata": {},
   "source": [
    "### Palindrome of an Integer\n",
    "\n",
    "Does a number look the same if compared left to right\n"
   ]
  },
  {
   "cell_type": "code",
   "execution_count": 16,
   "metadata": {},
   "outputs": [
    {
     "name": "stdout",
     "output_type": "stream",
     "text": [
      "121\n",
      "141\n",
      "252\n",
      "\n",
      "Total palindrome nos. are 3\n",
      "\n",
      "111\n",
      "565\n",
      "787\n",
      "363\n",
      "\n",
      "Total palindrome nos. are 4\n",
      "\n"
     ]
    }
   ],
   "source": [
    "def palindromeNumbers(list_a):  \n",
    "    c = 0\n",
    "    # loop till list is not empty \n",
    "    for i in list_a:              \n",
    "        # Find reverse of current number \n",
    "        t = i \n",
    "        rev = 0\n",
    "        while t > 0: \n",
    "            rev = rev * 10 + t % 10\n",
    "            t = t // 10\n",
    "        # compare rev with the current number \n",
    "        if rev == i: \n",
    "            print (i), \n",
    "            c = c + 1\n",
    "    print()\n",
    "    print (\"Total palindrome nos. are\", c )\n",
    "    print ()\n",
    "    \n",
    "list_a = [10, 121, 133, 155, 141, 252] \n",
    "palindromeNumbers(list_a) \n",
    "  \n",
    "list_b = [ 111, 220, 784, 565, 498, 787, 363] \n",
    "palindromeNumbers(list_b)      "
   ]
  },
  {
   "cell_type": "markdown",
   "metadata": {},
   "source": [
    "### Permutation"
   ]
  },
  {
   "cell_type": "code",
   "execution_count": 42,
   "metadata": {},
   "outputs": [
    {
     "data": {
      "text/plain": [
       "['abcd',\n",
       " 'abdc',\n",
       " 'acbd',\n",
       " 'acdb',\n",
       " 'adbc',\n",
       " 'adcb',\n",
       " 'bacd',\n",
       " 'badc',\n",
       " 'bcad',\n",
       " 'bcda',\n",
       " 'bdac',\n",
       " 'bdca',\n",
       " 'cabd',\n",
       " 'cadb',\n",
       " 'cbad',\n",
       " 'cbda',\n",
       " 'cdab',\n",
       " 'cdba',\n",
       " 'dabc',\n",
       " 'dacb',\n",
       " 'dbac',\n",
       " 'dbca',\n",
       " 'dcab',\n",
       " 'dcba']"
      ]
     },
     "execution_count": 42,
     "metadata": {},
     "output_type": "execute_result"
    }
   ],
   "source": [
    "def permutation(rest, so_far = \"\", permutes = []):\n",
    "    if len(rest) == 0:\n",
    "        permutes.append(so_far)\n",
    "    else:\n",
    "        for i, v in enumerate(rest):\n",
    "            next_so_far = so_far + v\n",
    "            next_rest = rest[0:i] + rest[i+1:]\n",
    "            permutation(next_rest, next_so_far, permutes)\n",
    "    return permutes\n",
    "\n",
    "rest = \"abcd\"\n",
    "permutation(rest)"
   ]
  },
  {
   "cell_type": "markdown",
   "metadata": {},
   "source": [
    "### Find the position where parenthesis is not balanced"
   ]
  },
  {
   "cell_type": "code",
   "execution_count": 23,
   "metadata": {
    "scrolled": true
   },
   "outputs": [
    {
     "name": "stdout",
     "output_type": "stream",
     "text": [
      "True\n",
      "True\n",
      "3\n",
      "False\n",
      "True\n",
      "0\n",
      "False\n",
      "4\n",
      "False\n",
      "True\n"
     ]
    }
   ],
   "source": [
    "def is_balanced(par_str):\n",
    "    list_open = \"{([\"\n",
    "    list_close = \"})]\"\n",
    "    par_map = dict(zip(list_open, list_close))\n",
    "    \n",
    "    n = len(par_str)\n",
    "    open_stack = []\n",
    "    \n",
    "    position = -1\n",
    "    balanced = True\n",
    "\n",
    "    if par_str[0] in list_close:\n",
    "        position = 0\n",
    "        balanced =  False\n",
    "    \n",
    "    i = 0\n",
    "    \n",
    "    while i < n and balanced:\n",
    "        position = -1\n",
    "        char = par_str[i]\n",
    "        if char in list_open:\n",
    "            open_stack.append(char)\n",
    "        else:\n",
    "            if len(open_stack) is 0:\n",
    "                position = i\n",
    "                balanced = False\n",
    "            else:\n",
    "                top = open_stack.pop()\n",
    "                if par_map[top] is not char:\n",
    "                    position = i\n",
    "                    balanced = False\n",
    "        i += 1\n",
    "                \n",
    "    if len(open_stack) == 0 and balanced:\n",
    "        return True\n",
    "    else:\n",
    "        print(position)\n",
    "        return False\n",
    "               \n",
    "parenthesis = \"{()}[]\"\n",
    "print(is_balanced(parenthesis))\n",
    "\n",
    "parenthesis = \"{([])}\"\n",
    "print(is_balanced(parenthesis))\n",
    "\n",
    "parenthesis = \"{([)}\"\n",
    "print(is_balanced(parenthesis))\n",
    "\n",
    "parenthesis = \"{([])}\"\n",
    "print(is_balanced(parenthesis))\n",
    "\n",
    "parenthesis = \"}([])}\"\n",
    "print(is_balanced(parenthesis))\n",
    "\n",
    "parenthesis = \"()()))\"\n",
    "print(is_balanced(parenthesis))\n",
    "\n",
    "parenthesis = \"(())\"\n",
    "print(is_balanced(parenthesis))"
   ]
  },
  {
   "cell_type": "markdown",
   "metadata": {},
   "source": [
    "### Knapsack 0/1\n",
    "\n",
    "How we can get maximum value from selectively putting **n** items into a knapsack of limited capacity **C**. Given an array of the values, **vt** and weights, **wt**"
   ]
  },
  {
   "cell_type": "code",
   "execution_count": 376,
   "metadata": {},
   "outputs": [],
   "source": [
    "def knap_sack(W, n, wt, vt):\n",
    "    if W == 0 or n == 0:\n",
    "        return 0\n",
    "    elif wt[n-1] > W:\n",
    "        return knap_sack(W, n-1, wt, vt)\n",
    "    else:\n",
    "        return max(vt[n-1] + knap_sack(W - wt[n-1], n-1, wt, vt), knap_sack(W , n-1, wt, vt))"
   ]
  },
  {
   "cell_type": "code",
   "execution_count": 377,
   "metadata": {},
   "outputs": [
    {
     "data": {
      "text/plain": [
       "220"
      ]
     },
     "execution_count": 377,
     "metadata": {},
     "output_type": "execute_result"
    }
   ],
   "source": [
    "W = 50\n",
    "wt = [10, 20,30]\n",
    "vt = [60, 100, 120]\n",
    "knap_sack(W, len(wt), wt, vt)"
   ]
  },
  {
   "cell_type": "code",
   "execution_count": 561,
   "metadata": {},
   "outputs": [],
   "source": [
    "def knapsack_BottomUp(W,n, wt, vt):\n",
    "    K =  [[0 for i in range(W + 1 )] for y in range(n+1)]\n",
    "    \n",
    "    for i in range(n+1):\n",
    "        for w in range(W+ 1):\n",
    "            if i==0 or w == 0:\n",
    "                K[i][w] = 0\n",
    "            elif wt[i-1] > w:\n",
    "                K[i][w] = K[i-1][w]  \n",
    "            else:   \n",
    "                K[i][w] = max(vt[i-1] + K[i-1][w-wt[i-1]], K[i-1][w])\n",
    "    return K[n][W]\n",
    "        "
   ]
  },
  {
   "cell_type": "code",
   "execution_count": 562,
   "metadata": {},
   "outputs": [
    {
     "data": {
      "text/plain": [
       "280"
      ]
     },
     "execution_count": 562,
     "metadata": {},
     "output_type": "execute_result"
    }
   ],
   "source": [
    "C = 9\n",
    "wt = [1,2,4,5]\n",
    "vt = [60, 100, 120, 50]\n",
    "n = len(wt)\n",
    "knapsack_BottomUp(C, len(wt), wt, vt)"
   ]
  },
  {
   "cell_type": "code",
   "execution_count": 573,
   "metadata": {},
   "outputs": [
    {
     "data": {
      "text/plain": [
       "220"
      ]
     },
     "execution_count": 573,
     "metadata": {},
     "output_type": "execute_result"
    }
   ],
   "source": [
    "C = 50\n",
    "wt = [10, 20,30]\n",
    "vt = [60, 100, 120]\n",
    "knapsack_BottomUp(C, len(wt), wt, vt)"
   ]
  },
  {
   "cell_type": "code",
   "execution_count": 574,
   "metadata": {},
   "outputs": [],
   "source": [
    "def knap_sackTopDown(W, n, wt, vt, K):\n",
    "    if n == 0 or W == 0:\n",
    "        sub_map[n][W] = 0\n",
    "        return 0\n",
    "    if sub_map[n][W] is not None:\n",
    "        return sub_map[n][W]\n",
    "    else:\n",
    "        if wt[n-1] > W:\n",
    "            K[n][W] = knap_sackTopDown(W, n-1, wt, vt, sub_map)\n",
    "        else:\n",
    "            K[n][W] = max(vt[n-1] + knap_sackTopDown(W - wt[n-1], n-1, wt, vt, sub_map), knap_sackTopDown(W , n-1, wt, vt, sub_map))\n",
    "        return K[n][W]"
   ]
  },
  {
   "cell_type": "code",
   "execution_count": 575,
   "metadata": {},
   "outputs": [
    {
     "data": {
      "text/plain": [
       "280"
      ]
     },
     "execution_count": 575,
     "metadata": {},
     "output_type": "execute_result"
    }
   ],
   "source": [
    "C = 9\n",
    "wt = [1,2,4,5]\n",
    "vt = [60, 100, 120, 50]\n",
    "n = len(wt)\n",
    "sub_map = [[None for i in range(C + 1)] for y in range(n+1)]\n",
    "knap_sackTopDown(C, n, wt, vt, sub_map)"
   ]
  },
  {
   "cell_type": "code",
   "execution_count": 576,
   "metadata": {},
   "outputs": [
    {
     "data": {
      "text/plain": [
       "220"
      ]
     },
     "execution_count": 576,
     "metadata": {},
     "output_type": "execute_result"
    }
   ],
   "source": [
    "C = 50\n",
    "wt = [10, 20,30]\n",
    "vt = [60, 100, 120]\n",
    "n = len(wt)\n",
    "sub_map = [[None for i in range(C + 1)] for y in range(n+1)]\n",
    "knap_sackTopDown(C, n, wt, vt, sub_map)"
   ]
  },
  {
   "cell_type": "markdown",
   "metadata": {},
   "source": [
    "### Coin Combination\n",
    "\n",
    "In how many ways can you combine coin from a given ste to giev change of a certain amount."
   ]
  },
  {
   "cell_type": "code",
   "execution_count": 21,
   "metadata": {},
   "outputs": [],
   "source": [
    "def coin_comb(n ,change, coins):\n",
    "    if change < 0 :\n",
    "        return 0\n",
    "    elif change == 0:\n",
    "        return 1\n",
    "    elif n <= 0:\n",
    "        return 0\n",
    "    else:\n",
    "        return coin_comb(n -1, change, coins) + coin_comb(n, change- coins[n-1], coins)"
   ]
  },
  {
   "cell_type": "code",
   "execution_count": 22,
   "metadata": {},
   "outputs": [
    {
     "data": {
      "text/plain": [
       "94"
      ]
     },
     "execution_count": 22,
     "metadata": {},
     "output_type": "execute_result"
    }
   ],
   "source": [
    "C = 50\n",
    "ct = [1,5,10,15,20]\n",
    "n = len(ct)\n",
    "coin_comb(n, C, ct)"
   ]
  },
  {
   "cell_type": "code",
   "execution_count": 257,
   "metadata": {},
   "outputs": [
    {
     "data": {
      "text/plain": [
       "7"
      ]
     },
     "execution_count": 257,
     "metadata": {},
     "output_type": "execute_result"
    }
   ],
   "source": [
    "C = 5\n",
    "ct = [1,2, 3, 4, 5]\n",
    "n = len(ct)\n",
    "coin_comb(n, C, ct)"
   ]
  },
  {
   "cell_type": "code",
   "execution_count": 613,
   "metadata": {},
   "outputs": [
    {
     "data": {
      "text/plain": [
       "1"
      ]
     },
     "execution_count": 613,
     "metadata": {},
     "output_type": "execute_result"
    }
   ],
   "source": [
    "C = 5\n",
    "ct = [1,20]\n",
    "n = len(ct)\n",
    "coin_comb(n, C, ct)"
   ]
  },
  {
   "cell_type": "code",
   "execution_count": 661,
   "metadata": {},
   "outputs": [],
   "source": [
    "def coin_comb_memoized_top_down(n ,change, coins, memo):\n",
    "    if change < 0 or n <= 0:\n",
    "        return 0\n",
    "    elif change == 0:\n",
    "        memo[n][change] = 1\n",
    "        return 1\n",
    "    elif memo[n][change] is not None:\n",
    "        return memo[n][change]\n",
    "    else:\n",
    "        count = coin_comb_memoized_top_down(n -1, change, coins, memo) + coin_comb_memoized_top_down(n, change- coins[n-1], coins, memo)\n",
    "        memo[n][change] = count\n",
    "        return memo[n][change]\n",
    "    \n",
    "def print_matrix(memo, change, n):\n",
    "    for i in range(n):\n",
    "        for j in range(change):\n",
    "            val = \" \"+ str(memo[i][j])\n",
    "    print(val)\n",
    "    "
   ]
  },
  {
   "cell_type": "code",
   "execution_count": 662,
   "metadata": {},
   "outputs": [
    {
     "data": {
      "text/plain": [
       "1"
      ]
     },
     "execution_count": 662,
     "metadata": {},
     "output_type": "execute_result"
    }
   ],
   "source": [
    "C = 5\n",
    "ct = [1,20]\n",
    "n = len(ct)\n",
    "memo = [[None for i in range(C + 1)] for y in range(n+1)]\n",
    "coin_comb_memoized_top_down(n, C, ct, memo)"
   ]
  },
  {
   "cell_type": "code",
   "execution_count": 659,
   "metadata": {},
   "outputs": [
    {
     "data": {
      "text/plain": [
       "7"
      ]
     },
     "execution_count": 659,
     "metadata": {},
     "output_type": "execute_result"
    }
   ],
   "source": [
    "C = 5\n",
    "ct = [1,2, 3, 4, 5]\n",
    "n = len(ct)\n",
    "memo = [[None for i in range(C + 1)] for y in range(n+1)]\n",
    "coin_comb_memoized_top_down(n, C, ct, memo)"
   ]
  },
  {
   "cell_type": "code",
   "execution_count": 660,
   "metadata": {},
   "outputs": [
    {
     "data": {
      "text/plain": [
       "5"
      ]
     },
     "execution_count": 660,
     "metadata": {},
     "output_type": "execute_result"
    }
   ],
   "source": [
    "C = 5\n",
    "ct = [1,2,3]\n",
    "n = len(ct)\n",
    "n = len(ct)\n",
    "memo = [[None for i in range(C + 1)] for y in range(n+1)]\n",
    "coin_comb_memoized_top_down(n, C, ct, memo)"
   ]
  },
  {
   "cell_type": "markdown",
   "metadata": {},
   "source": [
    "`K[][j]` will be the sum of the ways to make change not considering\n",
    "        this coin (`K[i-1][j]`) and the ways to make change considering this\n",
    "        coin `(K[i][j]` - currentCoinValue] ONLY if `currentCoinValue <= j`, otherwise\n",
    "        this coin can not contribute to the total # of ways to make change at this\n",
    "        sub problem target amount)"
   ]
  },
  {
   "cell_type": "code",
   "execution_count": 663,
   "metadata": {},
   "outputs": [],
   "source": [
    "def coin_comb_memoized_bottom_up(change, coins):\n",
    "    n = len(coins)\n",
    "    K = [[0 for i in range(change + 1)] for y in range(n+1)]\n",
    "    print(K)\n",
    "    K[0][0] = 1\n",
    "    \n",
    "    for row in range(1,n+1):\n",
    "        K[row][0] = 1\n",
    "        for column in range(1,change+1): \n",
    "            currentCoinValue = coins[row-1];\n",
    "            withoutThisCoin = K[row-1][column];\n",
    "            if currentCoinValue <= column :\n",
    "                withThisCoin = K[row][column - currentCoinValue] \n",
    "            else: \n",
    "                withThisCoin = 0\n",
    "            K[row][column] = withoutThisCoin + withThisCoin\n",
    "    \n",
    "    print(K)\n",
    "    return K[n][change]"
   ]
  },
  {
   "cell_type": "code",
   "execution_count": 664,
   "metadata": {},
   "outputs": [
    {
     "name": "stdout",
     "output_type": "stream",
     "text": [
      "[[0, 0, 0, 0, 0, 0], [0, 0, 0, 0, 0, 0], [0, 0, 0, 0, 0, 0], [0, 0, 0, 0, 0, 0]]\n",
      "[[1, 0, 0, 0, 0, 0], [1, 1, 1, 1, 1, 1], [1, 1, 2, 2, 3, 3], [1, 1, 2, 2, 3, 4]]\n"
     ]
    },
    {
     "data": {
      "text/plain": [
       "4"
      ]
     },
     "execution_count": 664,
     "metadata": {},
     "output_type": "execute_result"
    }
   ],
   "source": [
    "C = 5\n",
    "ct = [1,2, 5]\n",
    "coin_comb_memoized_bottom_up(C, ct)"
   ]
  },
  {
   "cell_type": "code",
   "execution_count": 665,
   "metadata": {},
   "outputs": [
    {
     "name": "stdout",
     "output_type": "stream",
     "text": [
      "[[0, 0, 0, 0, 0, 0], [0, 0, 0, 0, 0, 0], [0, 0, 0, 0, 0, 0], [0, 0, 0, 0, 0, 0], [0, 0, 0, 0, 0, 0], [0, 0, 0, 0, 0, 0]]\n",
      "[[1, 0, 0, 0, 0, 0], [1, 1, 1, 1, 1, 1], [1, 1, 2, 2, 3, 3], [1, 1, 2, 3, 4, 5], [1, 1, 2, 3, 5, 6], [1, 1, 2, 3, 5, 7]]\n"
     ]
    },
    {
     "data": {
      "text/plain": [
       "7"
      ]
     },
     "execution_count": 665,
     "metadata": {},
     "output_type": "execute_result"
    }
   ],
   "source": [
    "C = 5\n",
    "ct = [1,2, 3, 4, 5]\n",
    "n = len(ct)\n",
    "coin_comb_memoized_bottom_up(C, ct)"
   ]
  },
  {
   "cell_type": "markdown",
   "metadata": {},
   "source": [
    "### Fractional Knapsack\n",
    "\n",
    "Items are divisible hence can have fractions in Knapsack"
   ]
  },
  {
   "cell_type": "code",
   "execution_count": 782,
   "metadata": {},
   "outputs": [],
   "source": [
    "class KnapCandidate:\n",
    "    def __init__(self, weight, value, index):\n",
    "        self.weight =  weight\n",
    "        self.value = value\n",
    "        self.index = index\n",
    "        self.cost = value/weight\n",
    "    def __lt__(self, other):\n",
    "        return self.cost < other.cost\n",
    "    \n",
    "    \n",
    "def knapsackFract(W, n, wt, vt):\n",
    "    items = []\n",
    "    for i in range(len(wt)):\n",
    "        items.append(KnapCandidate(wt[i], vt[i], i))\n",
    "        \n",
    "    items.sort(reverse = True)\n",
    "    \n",
    "    totalValue = 0\n",
    "    totalWeight = 0\n",
    "    \n",
    "    for i in items:\n",
    "        w_i = i.weight\n",
    "        v_i = i.value\n",
    "        \n",
    "        if totalWeight + w_i <= W:\n",
    "            totalValue  += v_i\n",
    "            totalWeight += w_i\n",
    "        else:\n",
    "            fraction =  (W - totalWeight)/w_i\n",
    "            totalValue += v_i * fraction\n",
    "            totalWeight = w_i \n",
    "    return int(totalValue)\n",
    "    "
   ]
  },
  {
   "cell_type": "code",
   "execution_count": 783,
   "metadata": {},
   "outputs": [
    {
     "data": {
      "text/plain": [
       "168"
      ]
     },
     "execution_count": 783,
     "metadata": {},
     "output_type": "execute_result"
    }
   ],
   "source": [
    "W = 50\n",
    "wt = [10, 20,30]\n",
    "vt = [60, 100, 12]\n",
    "knapsackFract(W, len(wt), wt, vt)"
   ]
  },
  {
   "cell_type": "code",
   "execution_count": 784,
   "metadata": {},
   "outputs": [
    {
     "data": {
      "text/plain": [
       "260"
      ]
     },
     "execution_count": 784,
     "metadata": {},
     "output_type": "execute_result"
    }
   ],
   "source": [
    "W = 50\n",
    "wt = [10, 40, 20,30]\n",
    "vt = [60, 40, 100, 120]\n",
    "knapsackFract(W, len(wt), wt, vt)"
   ]
  },
  {
   "cell_type": "code",
   "execution_count": 785,
   "metadata": {},
   "outputs": [
    {
     "data": {
      "text/plain": [
       "560"
      ]
     },
     "execution_count": 785,
     "metadata": {},
     "output_type": "execute_result"
    }
   ],
   "source": [
    "W = 60\n",
    "wt = [10, 40, 20, 24]\n",
    "vt = [100, 280, 120, 120]\n",
    "knapsackFract(W, len(wt), wt, vt)"
   ]
  },
  {
   "cell_type": "code",
   "execution_count": 778,
   "metadata": {},
   "outputs": [],
   "source": [
    "from collections import OrderedDict\n",
    "\n",
    "def knapsackFract(W, n, wt, vt):\n",
    "    cost_map = {}\n",
    "    for i in range(len(wt)):\n",
    "        cost_map[i] = vt[i]/wt[i]\n",
    "    \n",
    "    cost_map = OrderedDict(sorted(cost_map.items(), key=lambda t: t[1] , reverse = True))\n",
    "    print(cost_map)\n",
    "    \n",
    "    totalValue = 0\n",
    "    totalWeight = 0\n",
    "    \n",
    "    for i in cost_map:\n",
    "        w_i = wt[i]\n",
    "        v_i = vt[i]\n",
    "        c_i = cost_map[i]\n",
    "        \n",
    "        if totalWeight + w_i <= W:\n",
    "            totalValue  += v_i\n",
    "            totalWeight += w_i\n",
    "        else:\n",
    "            fraction =  (W - totalWeight)/w_i\n",
    "            totalValue  += v_i * fraction\n",
    "            totalWeight += w_i\n",
    "    return int(totalValue)"
   ]
  },
  {
   "cell_type": "code",
   "execution_count": 779,
   "metadata": {},
   "outputs": [
    {
     "name": "stdout",
     "output_type": "stream",
     "text": [
      "OrderedDict([(0, 6.0), (1, 5.0), (2, 0.4)])\n"
     ]
    },
    {
     "data": {
      "text/plain": [
       "168"
      ]
     },
     "execution_count": 779,
     "metadata": {},
     "output_type": "execute_result"
    }
   ],
   "source": [
    "W = 50\n",
    "wt = [10, 20,30]\n",
    "vt = [60, 100, 12]\n",
    "knapsackFract(W, len(wt), wt, vt)"
   ]
  },
  {
   "cell_type": "code",
   "execution_count": 780,
   "metadata": {},
   "outputs": [
    {
     "name": "stdout",
     "output_type": "stream",
     "text": [
      "OrderedDict([(0, 6.0), (2, 5.0), (3, 4.0), (1, 1.0)])\n"
     ]
    },
    {
     "data": {
      "text/plain": [
       "230"
      ]
     },
     "execution_count": 780,
     "metadata": {},
     "output_type": "execute_result"
    }
   ],
   "source": [
    "W = 50\n",
    "wt = [10, 40, 20,30]\n",
    "vt = [60, 40, 100, 120]\n",
    "knapsackFract(W, len(wt), wt, vt)"
   ]
  },
  {
   "cell_type": "code",
   "execution_count": 781,
   "metadata": {},
   "outputs": [
    {
     "name": "stdout",
     "output_type": "stream",
     "text": [
      "OrderedDict([(0, 10.0), (1, 7.0), (2, 6.0), (3, 5.0)])\n"
     ]
    },
    {
     "data": {
      "text/plain": [
       "390"
      ]
     },
     "execution_count": 781,
     "metadata": {},
     "output_type": "execute_result"
    }
   ],
   "source": [
    "W = 60\n",
    "wt = [10, 40, 20, 24]\n",
    "vt = [100, 280, 120, 120]\n",
    "knapsackFract(W, len(wt), wt, vt)"
   ]
  },
  {
   "cell_type": "code",
   "execution_count": null,
   "metadata": {},
   "outputs": [],
   "source": []
  }
 ],
 "metadata": {
  "kernelspec": {
   "display_name": "Python 3",
   "language": "python",
   "name": "python3"
  },
  "language_info": {
   "codemirror_mode": {
    "name": "ipython",
    "version": 3
   },
   "file_extension": ".py",
   "mimetype": "text/x-python",
   "name": "python",
   "nbconvert_exporter": "python",
   "pygments_lexer": "ipython3",
   "version": "3.7.6"
  }
 },
 "nbformat": 4,
 "nbformat_minor": 2
}
