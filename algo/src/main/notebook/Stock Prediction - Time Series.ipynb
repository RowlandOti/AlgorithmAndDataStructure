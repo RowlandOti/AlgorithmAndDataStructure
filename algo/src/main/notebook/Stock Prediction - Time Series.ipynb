{
 "cells": [
  {
   "cell_type": "code",
   "execution_count": 93,
   "metadata": {},
   "outputs": [],
   "source": [
    "def predictAnswer(stockData, queries):\n",
    "    n =len(stockData)\n",
    "    result = []\n",
    "    for i in range(len(queries)):\n",
    "        # -1 to account for fact of 1-based index array\n",
    "        currentDayIndex = queries[i] - 1\n",
    "        pivotStock = stockData[currentDayIndex]\n",
    "        left = currentDayIndex - 1\n",
    "        right = currentDayIndex + 1\n",
    "        currAns = []\n",
    "        \n",
    "        while((left >=0 or right < n) and len(currAns) is not 2):\n",
    "            currLeftStock = stockData[left]\n",
    "            currRightStock = stockData[right]\n",
    "\n",
    "            print(\"Query for day {} of value {} is Left {} - {} Right\".format(queries[i], pivotStock, currLeftStock, currRightStock))\n",
    "\n",
    "            if currRightStock > pivotStock:\n",
    "                right = right +1\n",
    "            else:\n",
    "                currAns = right - 1\n",
    "\n",
    "            if  currLeftStock < pivotStock:\n",
    "                left = left -1\n",
    "            else:\n",
    "                currAns = left + 1\n",
    "            \n",
    "\n",
    "    return result"
   ]
  },
  {
   "cell_type": "code",
   "execution_count": null,
   "metadata": {},
   "outputs": [],
   "source": [
    "ans = [5, 6, 8, 4, 9, 10, 8, 3, 6, 4]\n",
    "queries = [3,1,8]\n",
    "\n",
    "print(predictAnswer(ans, queries))"
   ]
  },
  {
   "cell_type": "code",
   "execution_count": 274,
   "metadata": {},
   "outputs": [],
   "source": [
    "def leftSmaller(arr, n): \n",
    "  \n",
    "    # Create an empty stack \n",
    "    S = list() \n",
    "  \n",
    "    # Traverse all array elements \n",
    "    for i in range(n): \n",
    "      \n",
    "        # Keep removing top element from S  \n",
    "        # while the top element is greater  \n",
    "        # than or equal to arr[i] \n",
    "        while (len(S) > 0 and S[-1] >= arr[i]): \n",
    "            S.pop() \n",
    "  \n",
    "        # If all elements in S were greater \n",
    "        # than arr[i] \n",
    "        if (len(S) == 0): \n",
    "            print(\"_, \", end = \"\") \n",
    "        else: # Else print the nearest  \n",
    "              # smaller element \n",
    "            print(S[-1], end = \", \") \n",
    "  \n",
    "        # Push this element \n",
    "        S.append(arr[i])"
   ]
  },
  {
   "cell_type": "code",
   "execution_count": 278,
   "metadata": {},
   "outputs": [
    {
     "name": "stdout",
     "output_type": "stream",
     "text": [
      "[5, 6, 8, 4, 9, 10, 8, 3, 6, 4]\n",
      "_, 5, 6, _, 4, 9, 4, _, 3, 3, "
     ]
    }
   ],
   "source": [
    "print(ans)\n",
    "leftSmaller(ans, len(ans))"
   ]
  },
  {
   "cell_type": "code",
   "execution_count": 279,
   "metadata": {},
   "outputs": [
    {
     "name": "stdout",
     "output_type": "stream",
     "text": [
      "[4, 6, 3, 8, 10, 9, 4, 8, 6, 5]\n",
      "_, 4, _, 3, 8, 8, 3, 4, 4, 4, "
     ]
    }
   ],
   "source": [
    "print(ans[::-1])\n",
    "leftSmaller(ans[::-1], len(ans[::-1]))"
   ]
  },
  {
   "cell_type": "code",
   "execution_count": 251,
   "metadata": {},
   "outputs": [],
   "source": [
    "def leftSmaller2(arr, n, j): \n",
    "  \n",
    "    # Create an empty stack \n",
    "    S = list() \n",
    "    \n",
    "    if j > 0:\n",
    "        S.append((arr[j-1], j-1))\n",
    "  \n",
    "    leftSmall = None\n",
    "\n",
    "    for i in range(j, j+ 1): \n",
    "      \n",
    "        while (len(S) > 0 and S[-1][0] >= arr[i]): \n",
    "            S.pop() \n",
    "  \n",
    "        if (len(S) > 0): \n",
    "            leftSmall = S[-1] \n",
    " \n",
    "        # Push this element \n",
    "        S.append((arr[i], i))\n",
    "    \n",
    "    return leftSmall[1] if leftSmall is not None else None\n",
    "    "
   ]
  },
  {
   "cell_type": "code",
   "execution_count": 252,
   "metadata": {},
   "outputs": [
    {
     "name": "stdout",
     "output_type": "stream",
     "text": [
      "1\n"
     ]
    }
   ],
   "source": [
    "print(leftSmaller2(ans, len(ans), 2))"
   ]
  },
  {
   "cell_type": "code",
   "execution_count": 253,
   "metadata": {},
   "outputs": [
    {
     "name": "stdout",
     "output_type": "stream",
     "text": [
      "None\n"
     ]
    }
   ],
   "source": [
    "print(leftSmaller2(ans, len(ans), 0))"
   ]
  },
  {
   "cell_type": "code",
   "execution_count": 254,
   "metadata": {},
   "outputs": [
    {
     "name": "stdout",
     "output_type": "stream",
     "text": [
      "None\n"
     ]
    }
   ],
   "source": [
    "print(leftSmaller2(ans,len(ans), 7))"
   ]
  },
  {
   "cell_type": "code",
   "execution_count": 273,
   "metadata": {},
   "outputs": [
    {
     "name": "stdout",
     "output_type": "stream",
     "text": [
      "7\n",
      "[4, 6, 3, 8, 10, 9, 4, 8, 6, 5]\n",
      "6\n"
     ]
    }
   ],
   "source": [
    "x = len(ans) - 2 -1\n",
    "print(x)\n",
    "\n",
    "rev = ans[::-1]\n",
    "print(rev)\n",
    "\n",
    "print(leftSmaller2(ans[::-1], len(ans), x))"
   ]
  },
  {
   "cell_type": "code",
   "execution_count": 205,
   "metadata": {},
   "outputs": [
    {
     "data": {
      "text/plain": [
       "[4, 6, 3, 8, 10, 9, 4, 8, 6, 5]"
      ]
     },
     "execution_count": 205,
     "metadata": {},
     "output_type": "execute_result"
    }
   ],
   "source": []
  },
  {
   "cell_type": "code",
   "execution_count": 206,
   "metadata": {},
   "outputs": [
    {
     "data": {
      "text/plain": [
       "[5, 6, 8, 4, 9, 10, 8, 3, 6, 4]"
      ]
     },
     "execution_count": 206,
     "metadata": {},
     "output_type": "execute_result"
    }
   ],
   "source": [
    "ans"
   ]
  },
  {
   "cell_type": "code",
   "execution_count": 265,
   "metadata": {},
   "outputs": [],
   "source": [
    "def predictAnswer(stockData, queries):\n",
    "    n =len(stockData)\n",
    "    result = []\n",
    "    for i in range(len(queries)):\n",
    "        # -1 to account for fact of 1-based index array\n",
    "        currentDayIndex = queries[i] - 1\n",
    "        \n",
    "        leftAns = leftSmaller2(stockData, n, currentDayIndex)\n",
    "        rightAns = leftSmaller2(stockData[::-1], n, n - currentDayIndex -1)\n",
    "        \n",
    "        print(\"LeftAns {}: RightAns {}\".format(leftAns, rightAns))\n",
    "    \n",
    "        if leftAns is not None:\n",
    "            result.append(leftAns + 1)\n",
    "        else:\n",
    "            if rightAns is not None:\n",
    "                result.append(rightAns + 1)\n",
    "            else:\n",
    "                result.append(-1)\n",
    "            \n",
    "    return result"
   ]
  },
  {
   "cell_type": "code",
   "execution_count": 266,
   "metadata": {},
   "outputs": [
    {
     "name": "stdout",
     "output_type": "stream",
     "text": [
      "LeftAns 1: RightAns 6\n",
      "LeftAns None: RightAns None\n",
      "LeftAns None: RightAns None\n",
      "[2, -1, -1]\n"
     ]
    }
   ],
   "source": [
    "ans = [5, 6, 8, 4, 9, 10, 8, 3, 6, 4]\n",
    "queries = [3,1,8]\n",
    "\n",
    "print(predictAnswer(ans, queries))"
   ]
  },
  {
   "cell_type": "code",
   "execution_count": null,
   "metadata": {},
   "outputs": [],
   "source": []
  }
 ],
 "metadata": {
  "kernelspec": {
   "display_name": "Python 3",
   "language": "python",
   "name": "python3"
  },
  "language_info": {
   "codemirror_mode": {
    "name": "ipython",
    "version": 3
   },
   "file_extension": ".py",
   "mimetype": "text/x-python",
   "name": "python",
   "nbconvert_exporter": "python",
   "pygments_lexer": "ipython3",
   "version": "3.8.4"
  }
 },
 "nbformat": 4,
 "nbformat_minor": 4
}
