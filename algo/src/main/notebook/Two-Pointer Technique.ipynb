{
 "cells": [
  {
   "cell_type": "markdown",
   "metadata": {},
   "source": [
    "### Angry Frogs Problem (Codility)\n",
    "\n",
    "There are N blocks, numbered from 0 to N-1, arranged in a row. A couple of frogs were sitting together on one\n",
    "block when they had a terrible quarrel. Now they want to jump away from one another so that the distance between\n",
    "them will be as large as possible. The distance between blocks numbered J and K, where J ≤ K, is computed as\n",
    "K − J + 1. The frogs can only jump up, meaning that they can move from one block to another only if the two\n",
    "blocks are adjacent and the second block is of the same or greater height as the first. What is the longest\n",
    "distance that they can possibly create between each other, if they also chose to sit on the optimal starting block initially?\n",
    "\n",
    "\n",
    "Write a function that, given an array <i>blocks</i> consisting of N integers denoting the heights of the blocks, returns the longest possible distance that two frogs can make between each other starting from one of the blocks."
   ]
  },
  {
   "cell_type": "markdown",
   "metadata": {},
   "source": [
    "Examples:\n",
    " -  Given blocks = **[2, 6, 8, 5]**, the function should return **3**. If starting from blocks[0], the first frog can stay\n",
    "     where it is and the second frog can jump to blocks[2] (but not to blocks[3]).\n",
    "     \n",
    "     ![Angry Frogs](https://codility-frontend-prod.s3.amazonaws.com/media/task_static/angry_frogs/static/images/auto/528e5a11d1436f60e03c5295601df025.png \"Angry Frogs\")\n",
    "    \n",
    "     - Given blocks = **[1, 5, 5, 2, 6]**, the function should return **4**. If starting from blocks[3], the first frog can\n",
    "     jump to blocks[1], but not blocks[0], and the second frog can jump to blocks[4].\n",
    "     \n",
    "     ![Angry Frogs](https://codility-frontend-prod.s3.amazonaws.com/media/task_static/angry_frogs/static/images/auto/3bc1ca1cf8c38f73c43bdd33334645d5.png \"Angry Frogs\")\n",
    "    \n",
    "     - Given blocks = **[1, 1]**, the function should return **2**. If starting from blocks[1], the first frog can jump to\n",
    "     blocks[0] and the second frog can stay where it is. Starting from blocks[0] would result in the same distance.\n",
    "    \n",
    "         ![Angry Frogs](https://codility-frontend-prod.s3.amazonaws.com/media/task_static/angry_frogs/static/images/auto/f0a735937c259e07cf5cd048afdca3a2.png \"Angry Frogs\")\n",
    "    \n",
    "     Write an efficient algorithm for the following assumptions:\n",
    "      N is an integer within the range [2..200,000]\n",
    "     each element of array blocks is an integer within the range [1..1,000,000,000]\n",
    "     \n"
   ]
  },
  {
   "cell_type": "code",
   "execution_count": 118,
   "metadata": {},
   "outputs": [],
   "source": [
    "def distance(blocks):\n",
    "    n = len(blocks)\n",
    "    \n",
    "    max_distance = 0\n",
    "    \n",
    "    for j in range(n):\n",
    "        print(j)\n",
    "        left_i = j\n",
    "        right_i = j\n",
    "        \n",
    "        result = 0\n",
    "        \n",
    "        is_left_blocked = False\n",
    "        is_right_blocked = False\n",
    "        \n",
    "        while(not is_left_blocked or not is_right_blocked):\n",
    "            print(left_i, right_i)\n",
    "            \n",
    "            if left_i > 0 and blocks[left_i] <= blocks[left_i - 1]:\n",
    "                left_i = left_i - 1\n",
    "            else:\n",
    "                is_left_blocked = True\n",
    "            \n",
    "            if right_i < n-1 and blocks[right_i] <= blocks[right_i + 1]:\n",
    "                right_i = right_i + 1\n",
    "            else:\n",
    "                is_right_blocked = True\n",
    "                \n",
    "                \n",
    "        result = right_i - left_i + 1\n",
    "        \n",
    "        if result > max_distance:\n",
    "            max_distance = result\n",
    "    \n",
    "    return max_distance\n",
    "            "
   ]
  },
  {
   "cell_type": "code",
   "execution_count": 119,
   "metadata": {},
   "outputs": [],
   "source": [
    "a = [2, 6, 8, 5]\n",
    "b = [1, 5, 5, 2, 6]\n",
    "c = [1, 1]\n",
    "d = [6, 30, 14, 14, 6, 10, 7, 29, 21, 1, 9, 6]"
   ]
  },
  {
   "cell_type": "code",
   "execution_count": 120,
   "metadata": {},
   "outputs": [
    {
     "name": "stdout",
     "output_type": "stream",
     "text": [
      "0\n",
      "0 0\n",
      "0 1\n",
      "0 2\n",
      "1\n",
      "1 1\n",
      "1 2\n",
      "2\n",
      "2 2\n",
      "3\n",
      "3 3\n",
      "2 3\n"
     ]
    },
    {
     "data": {
      "text/plain": [
       "3"
      ]
     },
     "execution_count": 120,
     "metadata": {},
     "output_type": "execute_result"
    }
   ],
   "source": [
    "distance(a)"
   ]
  },
  {
   "cell_type": "code",
   "execution_count": 121,
   "metadata": {},
   "outputs": [
    {
     "name": "stdout",
     "output_type": "stream",
     "text": [
      "0\n",
      "0 0\n",
      "0 1\n",
      "0 2\n",
      "1\n",
      "1 1\n",
      "1 2\n",
      "2\n",
      "2 2\n",
      "1 2\n",
      "3\n",
      "3 3\n",
      "2 4\n",
      "1 4\n",
      "4\n",
      "4 4\n"
     ]
    },
    {
     "data": {
      "text/plain": [
       "4"
      ]
     },
     "execution_count": 121,
     "metadata": {},
     "output_type": "execute_result"
    }
   ],
   "source": [
    "distance(b)"
   ]
  },
  {
   "cell_type": "code",
   "execution_count": 122,
   "metadata": {},
   "outputs": [
    {
     "name": "stdout",
     "output_type": "stream",
     "text": [
      "0\n",
      "0 0\n",
      "0 1\n",
      "1\n",
      "1 1\n",
      "0 1\n"
     ]
    },
    {
     "data": {
      "text/plain": [
       "2"
      ]
     },
     "execution_count": 122,
     "metadata": {},
     "output_type": "execute_result"
    }
   ],
   "source": [
    "distance(c)"
   ]
  },
  {
   "cell_type": "code",
   "execution_count": 123,
   "metadata": {},
   "outputs": [
    {
     "name": "stdout",
     "output_type": "stream",
     "text": [
      "0\n",
      "0 0\n",
      "0 1\n",
      "1\n",
      "1 1\n",
      "2\n",
      "2 2\n",
      "1 3\n",
      "3\n",
      "3 3\n",
      "2 3\n",
      "1 3\n",
      "4\n",
      "4 4\n",
      "3 5\n",
      "2 5\n",
      "1 5\n",
      "5\n",
      "5 5\n",
      "6\n",
      "6 6\n",
      "5 7\n",
      "7\n",
      "7 7\n",
      "8\n",
      "8 8\n",
      "7 8\n",
      "9\n",
      "9 9\n",
      "8 10\n",
      "7 10\n",
      "10\n",
      "10 10\n",
      "11\n",
      "11 11\n",
      "10 11\n"
     ]
    },
    {
     "data": {
      "text/plain": [
       "5"
      ]
     },
     "execution_count": 123,
     "metadata": {},
     "output_type": "execute_result"
    }
   ],
   "source": [
    "distance(d)"
   ]
  },
  {
   "cell_type": "markdown",
   "metadata": {},
   "source": [
    "### Longest subarray by sum (Codesignal/Leetcode)\n",
    "\n",
    "You have an unsorted array arr of positive integers and a number s. Find a longest contiguous subarray in arr that has a sum equal to s. Return two integers that represent its inclusive bounds. If there are several possible answers, return the one with the smallest left bound. If there are no answers, return [-1].\n",
    "\n",
    " Your answer should be 1-based, meaning that the first position of the array is 1 instead of 0.\n",
    "\n",
    "#### Example\n",
    "\n",
    "> For s = 12 and arr = [1, 2, 3, 7, 5], the output should be\n",
    "> findLongestSubarrayBySum(s, arr) = [2, 4].\n",
    "\n",
    " The sum of elements from the 2nd position to the 4th position (1-based) is equal to 12: 2 + 3 + 7.\n",
    "\n",
    " For s = 15 and arr = [1, 2, 3, 4, 5, 6, 7, 8, 9, 10], the output should be\n",
    " >>findLongestSubarrayBySum(s, arr) = [1, 5].\n",
    "\n",
    " The sum of elements from the 1st position to the 5th position (1-based) is equal to 15: 1 + 2 + 3 + 4 + 5.\n",
    "\n",
    " For s = 15 and arr = [1, 2, 3, 4, 5, 0, 0, 0, 6, 7, 8, 9, 10], the output should be \n",
    " >>findLongestSubarrayBySum(s, arr) = [1, 8].\n",
    "\n",
    " The sum of elements from the 1st position to the 8th position (1-based) is equal to 15: 1 + 2 + 3 + 4 + 5 + 0 + 0 + 0.\n",
    "\n",
    "#### Input/Output\n",
    "\n",
    "> [time limit] 4000ms (py)\n",
    "> [input] integer s\n",
    "\n",
    " The sum of the subarray that you are searching for.\n",
    "\n",
    "#### Guaranteed constraints:\n",
    "> 0 ≤ s ≤ 109.\n",
    "\n",
    "> [input] array.integer arr\n",
    "\n",
    " The given array.\n",
    "\n",
    " #### Guaranteed constraints:\n",
    "> 1 ≤ arr.length ≤ 105,\n",
    "> 0 ≤ arr[i] ≤ 104.\n",
    "\n",
    " [output] array.integer\n",
    "\n",
    " An array that contains two elements that represent the left and right bounds of the subarray, respectively (1-based). If there is no such subarray, return [-1].\n"
   ]
  },
  {
   "cell_type": "code",
   "execution_count": 99,
   "metadata": {},
   "outputs": [],
   "source": [
    "def findLongestSubarrayBySum(arr, s):\n",
    "    \n",
    "    n = len(arr)\n",
    "    total = 0\n",
    "    result = [-1]\n",
    "    \n",
    "    left = 0\n",
    "    right = 0\n",
    "\n",
    "    while(right < n):\n",
    "        total += arr[right]\n",
    "        while(left < right  and  total > s):\n",
    "            print(left, right, total)\n",
    "            total -=+ arr[left]\n",
    "            left = left + 1\n",
    "            \n",
    "        if total == s:\n",
    "            if len(result) == 1 :\n",
    "                result[0] = left+1\n",
    "                result.append(right+1)\n",
    "\n",
    "            if result[1] - result[0] < right - left:\n",
    "                result[0] = left+1\n",
    "                result[1] = right+1\n",
    "        print(left, right, total)       \n",
    "        right = right + 1\n",
    "        \n",
    "    return result"
   ]
  },
  {
   "cell_type": "code",
   "execution_count": 108,
   "metadata": {},
   "outputs": [
    {
     "name": "stdout",
     "output_type": "stream",
     "text": [
      "0 0 1\n",
      "0 1 3\n",
      "0 2 6\n",
      "0 3 13\n",
      "1 3 12\n",
      "1 4 17\n",
      "2 4 15\n",
      "3 4 12\n",
      "[2, 4]\n"
     ]
    }
   ],
   "source": [
    "arr = [1, 2, 3, 7, 5]\n",
    "s = 12\n",
    "print(findLongestSubarrayBySum(arr, s))"
   ]
  },
  {
   "cell_type": "code",
   "execution_count": 109,
   "metadata": {},
   "outputs": [
    {
     "name": "stdout",
     "output_type": "stream",
     "text": [
      "0 0 1\n",
      "0 1 3\n",
      "0 2 6\n",
      "0 3 10\n",
      "0 4 15\n",
      "0 5 21\n",
      "1 5 20\n",
      "2 5 18\n",
      "3 5 15\n",
      "3 6 22\n",
      "4 6 18\n",
      "5 6 13\n",
      "5 7 21\n",
      "6 7 15\n",
      "6 8 24\n",
      "7 8 17\n",
      "8 8 9\n",
      "8 9 19\n",
      "9 9 10\n",
      "[1, 5]\n"
     ]
    }
   ],
   "source": [
    "arr = [1, 2, 3, 4, 5, 6, 7, 8, 9, 10]\n",
    "s = 15\n",
    "print(findLongestSubarrayBySum(arr, s))"
   ]
  },
  {
   "cell_type": "code",
   "execution_count": 110,
   "metadata": {},
   "outputs": [
    {
     "name": "stdout",
     "output_type": "stream",
     "text": [
      "0 0 1\n",
      "0 1 3\n",
      "0 2 6\n",
      "0 3 10\n",
      "0 4 15\n",
      "0 5 15\n",
      "0 6 15\n",
      "0 7 15\n",
      "0 8 21\n",
      "1 8 20\n",
      "2 8 18\n",
      "3 8 15\n",
      "3 9 22\n",
      "4 9 18\n",
      "5 9 13\n",
      "5 10 21\n",
      "6 10 21\n",
      "7 10 21\n",
      "8 10 21\n",
      "9 10 15\n",
      "9 11 24\n",
      "10 11 17\n",
      "11 11 9\n",
      "11 12 19\n",
      "12 12 10\n",
      "[1, 8]\n"
     ]
    }
   ],
   "source": [
    "arr = [1, 2, 3, 4, 5, 0, 0, 0, 6, 7, 8, 9, 10]\n",
    "s = 15\n",
    "print(findLongestSubarrayBySum(arr, s))"
   ]
  },
  {
   "cell_type": "code",
   "execution_count": 111,
   "metadata": {},
   "outputs": [
    {
     "name": "stdout",
     "output_type": "stream",
     "text": [
      "[-1]\n"
     ]
    }
   ],
   "source": [
    "arr = []\n",
    "s = 15\n",
    "print(findLongestSubarrayBySum(arr, s))"
   ]
  },
  {
   "cell_type": "code",
   "execution_count": 112,
   "metadata": {},
   "outputs": [
    {
     "name": "stdout",
     "output_type": "stream",
     "text": [
      "0 0 -2\n",
      "0 1 -5\n",
      "0 2 -1\n",
      "0 3 -2\n",
      "0 4 -4\n",
      "0 5 -3\n",
      "0 6 2\n",
      "0 7 -1\n",
      "[-1]\n"
     ]
    }
   ],
   "source": [
    "arr = a = [-2, -3, 4, -1, -2, 1, 5, -3] \n",
    "s = 6\n",
    "print(findLongestSubarrayBySum(arr, s))"
   ]
  },
  {
   "cell_type": "markdown",
   "metadata": {},
   "source": [
    "If there were negative numbers in the array, this algorithm will not work, you have to use prefix sum. Because this algorithm is base on a rule that if you expand the right -> the sum will increase, if you shrink the left -> the sum will decrease. Unfortunately that's not the case for negative numbers."
   ]
  },
  {
   "cell_type": "code",
   "execution_count": null,
   "metadata": {},
   "outputs": [],
   "source": []
  }
 ],
 "metadata": {
  "kernelspec": {
   "display_name": "Python 3",
   "language": "python",
   "name": "python3"
  },
  "language_info": {
   "codemirror_mode": {
    "name": "ipython",
    "version": 3
   },
   "file_extension": ".py",
   "mimetype": "text/x-python",
   "name": "python",
   "nbconvert_exporter": "python",
   "pygments_lexer": "ipython3",
   "version": "3.8.4"
  }
 },
 "nbformat": 4,
 "nbformat_minor": 4
}
