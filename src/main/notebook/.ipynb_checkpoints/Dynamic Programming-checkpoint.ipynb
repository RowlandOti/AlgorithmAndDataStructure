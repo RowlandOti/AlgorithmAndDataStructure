{
 "cells": [
  {
   "cell_type": "code",
   "execution_count": null,
   "metadata": {},
   "outputs": [],
   "source": [
    "import time"
   ]
  },
  {
   "cell_type": "markdown",
   "metadata": {},
   "source": [
    "## Fibonacci Problem\n",
    "Write a function that given a number n, returns the fibonacci number\n",
    "- n are all positive numbers"
   ]
  },
  {
   "cell_type": "code",
   "execution_count": 3,
   "metadata": {},
   "outputs": [
    {
     "name": "stdout",
     "output_type": "stream",
     "text": [
      "Please enter number n: 5\n"
     ]
    }
   ],
   "source": [
    "num = int(input(\"Please enter number n: \"))\n",
    "if num < 0: \n",
    "    print(\"Please enter only +ve integers for n\")"
   ]
  },
  {
   "cell_type": "code",
   "execution_count": 51,
   "metadata": {},
   "outputs": [
    {
     "name": "stdout",
     "output_type": "stream",
     "text": [
      "5\n",
      "Run in  0.0005261898040771484 ms\n"
     ]
    }
   ],
   "source": [
    "# Iteration\n",
    "def iterative_fib(n):\n",
    "    a = 0\n",
    "    b = 1\n",
    "    for i in range(2, n+1):\n",
    "        c = a + b\n",
    "        a = b\n",
    "        b = c\n",
    "    return b\n",
    "\n",
    "start = time.time()\n",
    "print(iterative_fib(num))\n",
    "end = time.time()\n",
    "print(\"{} {} {}\".format(\"Run in \", end - start, \"ms\"))"
   ]
  },
  {
   "cell_type": "code",
   "execution_count": 65,
   "metadata": {},
   "outputs": [
    {
     "name": "stdout",
     "output_type": "stream",
     "text": [
      "2\n",
      "Run in  0.0002841949462890625 ms\n"
     ]
    }
   ],
   "source": [
    "def iterative_fib2(n):                                                                                                 \n",
    "    fibs = [0, 1]                                                                                           \n",
    "    for i in range(1, n):                                                                                      \n",
    "        fibs.append(fibs[-1] + fibs[-2])                                                                         \n",
    "    return fibs[n]\n",
    "\n",
    "start = time.time()\n",
    "print(iterative_fib2(num))\n",
    "end = time.time()\n",
    "print(\"{} {} {}\".format(\"Run in \", end - start, \"ms\"))"
   ]
  },
  {
   "cell_type": "code",
   "execution_count": 4,
   "metadata": {},
   "outputs": [
    {
     "name": "stdout",
     "output_type": "stream",
     "text": [
      "5\n",
      "Run in  0.0005559921264648438 ms\n"
     ]
    }
   ],
   "source": [
    "# Recursion\n",
    "\n",
    "def fib(n):\n",
    "    if n == 0:\n",
    "        result = 0\n",
    "    elif n == 1:\n",
    "        result = 1\n",
    "    else:\n",
    "        result =  fib(n-1) + fib(n-2)\n",
    "    return result\n",
    "\n",
    "\n",
    "start = time.time()\n",
    "print(fib(num))\n",
    "end = time.time()\n",
    "print(\"{} {} {}\".format(\"Run in \", end - start, \"ms\"))"
   ]
  },
  {
   "cell_type": "code",
   "execution_count": 23,
   "metadata": {},
   "outputs": [
    {
     "name": "stdout",
     "output_type": "stream",
     "text": [
      "5\n",
      "Run in  0.00019884109497070312 ms\n"
     ]
    }
   ],
   "source": [
    "# Recursion with memoization\n",
    "\n",
    "def fib_mem(n, mem):\n",
    "    if mem[n] is not None:\n",
    "        return mem[n]\n",
    "    elif n == 0:\n",
    "        result = 0\n",
    "    elif n == 1:\n",
    "        result = 1\n",
    "    else:\n",
    "        result =  fib_mem(n-1, mem) + fib_mem(n-2, mem)\n",
    "    mem.append(result)\n",
    "    return result\n",
    "\n",
    "start = time.time()\n",
    "print(fib_mem(num, [None] *(num + 1)))\n",
    "end = time.time()\n",
    "print(\"{} {} {}\".format(\"Run in \", end - start, \"ms\"))"
   ]
  },
  {
   "cell_type": "code",
   "execution_count": 41,
   "metadata": {},
   "outputs": [
    {
     "name": "stdout",
     "output_type": "stream",
     "text": [
      "5\n",
      "Run in  0.00019407272338867188 ms\n"
     ]
    }
   ],
   "source": [
    "# Bottom Up \n",
    "def fib_bottom_up(n):\n",
    "    mem = [None] * (n + 1)\n",
    "    mem[0] = 0\n",
    "    mem[1] = 1\n",
    "    \n",
    "    for i in range(2, len(mem)):\n",
    "        mem[i] = mem[i -1] + mem [i -2]\n",
    "    return mem[i]\n",
    "                   \n",
    "start = time.time()\n",
    "print(fib_bottom_up(num))\n",
    "end = time.time()\n",
    "print(\"{} {} {}\".format(\"Run in \", end - start, \"ms\"))"
   ]
  },
  {
   "cell_type": "code",
   "execution_count": null,
   "metadata": {},
   "outputs": [],
   "source": []
  }
 ],
 "metadata": {
  "kernelspec": {
   "display_name": "Python 3",
   "language": "python",
   "name": "python3"
  }
 },
 "nbformat": 4,
 "nbformat_minor": 2
}
