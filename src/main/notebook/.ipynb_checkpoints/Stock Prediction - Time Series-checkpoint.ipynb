{
 "cells": [
  {
   "cell_type": "code",
   "execution_count": 93,
   "metadata": {},
   "outputs": [],
   "source": [
    "def predictAnswer(stockData, queries):\n",
    "    n =len(stockData)\n",
    "    result = []\n",
    "    for i in range(len(queries)):\n",
    "        # -1 to account for fact of 1-based index array\n",
    "        currentDayIndex = queries[i] - 1\n",
    "        pivotStock = stockData[currentDayIndex]\n",
    "        left = currentDayIndex - 1\n",
    "        right = currentDayIndex + 1\n",
    "        currAns = []\n",
    "        \n",
    "        while((left >=0 or right < n) and len(currAns) is not 2):\n",
    "            currLeftStock = stockData[left]\n",
    "            currRightStock = stockData[right]\n",
    "\n",
    "            print(\"Query for day {} of value {} is Left {} - {} Right\".format(queries[i], pivotStock, currLeftStock, currRightStock))\n",
    "\n",
    "            if currRightStock > pivotStock:\n",
    "                right = right +1\n",
    "            else:\n",
    "                currAns = right - 1\n",
    "\n",
    "            if currLeftStock < pivotStock:\n",
    "                left = left -1\n",
    "            else:\n",
    "                currAns = left + 1\n",
    "            \n",
    "\n",
    "    return result"
   ]
  },
  {
   "cell_type": "code",
   "execution_count": null,
   "metadata": {},
   "outputs": [],
   "source": [
    "ans = [5, 6, 8, 4, 9, 10, 8, 3, 6, 4]\n",
    "queries = [3,1,8]\n",
    "\n",
    "print(predictAnswer(ans, queries))"
   ]
  },
  {
   "cell_type": "code",
   "execution_count": 122,
   "metadata": {},
   "outputs": [],
   "source": [
    "def leftSmaller(arr, n): \n",
    "  \n",
    "    # Create an empty stack \n",
    "    S = list() \n",
    "  \n",
    "    # Traverse all array elements \n",
    "    for i in range(n): \n",
    "      \n",
    "        # Keep removing top element from S  \n",
    "        # while the top element is greater  \n",
    "        # than or equal to arr[i] \n",
    "        while (len(S) > 0 and S[-1] >= arr[i]): \n",
    "            S.pop() \n",
    "  \n",
    "        # If all elements in S were greater \n",
    "        # than arr[i] \n",
    "        if (len(S) == 0): \n",
    "            print(\"_, \", end = \"\") \n",
    "        else: # Else print the nearest  \n",
    "              # smaller element \n",
    "            print(S[-1], end = \", \") \n",
    "  \n",
    "        # Push this element \n",
    "        S.append(arr[i])"
   ]
  },
  {
   "cell_type": "code",
   "execution_count": 123,
   "metadata": {},
   "outputs": [
    {
     "name": "stdout",
     "output_type": "stream",
     "text": [
      "_, 5, 6, _, 4, 9, 4, _, 3, 3, "
     ]
    }
   ],
   "source": [
    "leftSmaller(ans, len(ans))"
   ]
  },
  {
   "cell_type": "code",
   "execution_count": 128,
   "metadata": {},
   "outputs": [],
   "source": [
    "def leftSmaller2(arr, i): \n",
    "  \n",
    "    # Create an empty stack \n",
    "    S = arr[0:i]\n",
    "    \n",
    "    # Push this element \n",
    "    S.append(i)\n",
    "  \n",
    "\n",
    "    # Keep removing top element from S  \n",
    "    # while the top element is greater  \n",
    "    # than or equal to arr[i] \n",
    "    while (len(S) > 0 and S[-1] >= arr[i]): \n",
    "        S.pop() \n",
    "\n",
    "    # If all elements in S were greater \n",
    "    # than arr[i] \n",
    "    if (len(S) == 0): \n",
    "        print(\"_, \", end = \"\") \n",
    "    else: # Else print the nearest  \n",
    "          # smaller element \n",
    "        print(S[-1], end = \", \") \n"
   ]
  },
  {
   "cell_type": "code",
   "execution_count": 129,
   "metadata": {},
   "outputs": [
    {
     "name": "stdout",
     "output_type": "stream",
     "text": [
      "2, "
     ]
    }
   ],
   "source": [
    "leftSmaller2(ans, 3)"
   ]
  },
  {
   "cell_type": "code",
   "execution_count": null,
   "metadata": {},
   "outputs": [],
   "source": []
  }
 ],
 "metadata": {
  "kernelspec": {
   "display_name": "Python 3",
   "language": "python",
   "name": "python3"
  },
  "language_info": {
   "codemirror_mode": {
    "name": "ipython",
    "version": 3
   },
   "file_extension": ".py",
   "mimetype": "text/x-python",
   "name": "python",
   "nbconvert_exporter": "python",
   "pygments_lexer": "ipython3",
   "version": "3.7.6"
  }
 },
 "nbformat": 4,
 "nbformat_minor": 4
}
