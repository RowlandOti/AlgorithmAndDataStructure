{
 "cells": [
  {
   "cell_type": "markdown",
   "metadata": {},
   "source": [
    "## Find the Largest rectangle you can form in a histogram"
   ]
  },
  {
   "cell_type": "code",
   "execution_count": 346,
   "metadata": {
    "collapsed": false
   },
   "outputs": [],
   "source": [
    "def max_area_histogram(hist_arr):\n",
    "    max_area = 0\n",
    "    pos_stack = []\n",
    "    \n",
    "    pos = 0\n",
    "    while(pos < len(hist_arr)):\n",
    "        if(not pos_stack or hist_arr[pos] >= hist_arr[pos_stack[-1]]):\n",
    "            pos_stack.append(pos)\n",
    "            pos += 1\n",
    "        else:\n",
    "            height = hist_arr[pos_stack.pop()]\n",
    "            width = pos -1 - pos_stack[-1] if pos_stack else pos -1\n",
    "            area = height * width\n",
    "            max_area = max(max_area, area)\n",
    "            \n",
    "    while(pos_stack):\n",
    "        height = hist_arr[pos_stack.pop()]\n",
    "        width = pos -1 - pos_stack[-1] if pos_stack else pos -1\n",
    "        area = height * width\n",
    "        max_area = max(max_area, area)\n",
    "            \n",
    "    return max_area"
   ]
  },
  {
   "cell_type": "code",
   "execution_count": 354,
   "metadata": {
    "collapsed": false
   },
   "outputs": [],
   "source": [
    "arr  = [1,2,3,4,5,3,3,2]\n",
    "arr1 = [2,3,1,5,6,8,3,5,1]\n",
    "arr2 = [1,3,5,2,1,4]\n",
    "arr3 = [6,2,5,4,5,1,6]\n",
    "arr4 = [1,2,4]\n",
    "arr5 = [1,2,3,4,5,6,7,8]"
   ]
  },
  {
   "cell_type": "code",
   "execution_count": 355,
   "metadata": {
    "collapsed": false
   },
   "outputs": [
    {
     "name": "stdout",
     "output_type": "stream",
     "text": [
      "Maximum area is 15\n"
     ]
    }
   ],
   "source": [
    "print(\"Maximum area is\",  max_area_histogram(arr)) "
   ]
  },
  {
   "cell_type": "code",
   "execution_count": 356,
   "metadata": {
    "collapsed": false
   },
   "outputs": [
    {
     "name": "stdout",
     "output_type": "stream",
     "text": [
      "Maximum area is 15\n"
     ]
    }
   ],
   "source": [
    "print(\"Maximum area is\",  max_area_histogram(arr1)) "
   ]
  },
  {
   "cell_type": "code",
   "execution_count": 357,
   "metadata": {
    "collapsed": false
   },
   "outputs": [
    {
     "name": "stdout",
     "output_type": "stream",
     "text": [
      "Maximum area is 6\n"
     ]
    }
   ],
   "source": [
    "print(\"Maximum area is\",  max_area_histogram(arr2)) "
   ]
  },
  {
   "cell_type": "code",
   "execution_count": 358,
   "metadata": {
    "collapsed": false
   },
   "outputs": [
    {
     "name": "stdout",
     "output_type": "stream",
     "text": [
      "Maximum area is 12\n"
     ]
    }
   ],
   "source": [
    "print(\"Maximum area is\",  max_area_histogram(arr3)) "
   ]
  },
  {
   "cell_type": "code",
   "execution_count": 359,
   "metadata": {
    "collapsed": false
   },
   "outputs": [
    {
     "name": "stdout",
     "output_type": "stream",
     "text": [
      "Maximum area is 4\n"
     ]
    }
   ],
   "source": [
    "print(\"Maximum area is\",  max_area_histogram(arr4)) "
   ]
  },
  {
   "cell_type": "code",
   "execution_count": 360,
   "metadata": {
    "collapsed": false
   },
   "outputs": [
    {
     "name": "stdout",
     "output_type": "stream",
     "text": [
      "Maximum area is 20\n"
     ]
    }
   ],
   "source": [
    "print(\"Maximum area is\",  max_area_histogram(arr5)) "
   ]
  },
  {
   "cell_type": "code",
   "execution_count": 370,
   "metadata": {
    "collapsed": false
   },
   "outputs": [],
   "source": [
    "def max_area_histogram1(hist_arr):\n",
    "    max_area = 0\n",
    "    heights =  [0] + hist_arr + [0]\n",
    "    pos_stack = [0]\n",
    "    \n",
    "    for i , bar in enumerate(hist_arr[1:], 1):\n",
    "        while(heights[pos_stack[-1]] > bar):\n",
    "            height = heights[pos_stack.pop()]\n",
    "            width = i -1 - pos_stack[-1] \n",
    "            area = height * width\n",
    "            max_area = max(area, max_area)\n",
    "        pos_stack.append(i)\n",
    "    return max_area"
   ]
  },
  {
   "cell_type": "code",
   "execution_count": 371,
   "metadata": {
    "collapsed": false
   },
   "outputs": [
    {
     "name": "stdout",
     "output_type": "stream",
     "text": [
      "Maximum area is 12\n"
     ]
    }
   ],
   "source": [
    "print(\"Maximum area is\",  max_area_histogram1(arr)) "
   ]
  },
  {
   "cell_type": "code",
   "execution_count": 320,
   "metadata": {
    "collapsed": false
   },
   "outputs": [
    {
     "name": "stdout",
     "output_type": "stream",
     "text": [
      "Maximum area is 24\n"
     ]
    }
   ],
   "source": [
    "print(\"Maximum area is\",  max_area_histogram1(arr1)) "
   ]
  },
  {
   "cell_type": "code",
   "execution_count": 321,
   "metadata": {
    "collapsed": false
   },
   "outputs": [
    {
     "name": "stdout",
     "output_type": "stream",
     "text": [
      "Maximum area is 10\n"
     ]
    }
   ],
   "source": [
    "print(\"Maximum area is\",  max_area_histogram1(arr2)) "
   ]
  },
  {
   "cell_type": "code",
   "execution_count": 322,
   "metadata": {
    "collapsed": false
   },
   "outputs": [
    {
     "name": "stdout",
     "output_type": "stream",
     "text": [
      "Maximum area is 10\n"
     ]
    }
   ],
   "source": [
    "print(\"Maximum area is\",  max_area_histogram1(arr3)) "
   ]
  },
  {
   "cell_type": "code",
   "execution_count": 361,
   "metadata": {
    "collapsed": true
   },
   "outputs": [],
   "source": [
    "def max_area_histogram2(histogram): \n",
    "      \n",
    "    # This function calulates maximum  \n",
    "    # rectangular area under given  \n",
    "    # histogram with n bars \n",
    "  \n",
    "    # Create an empty stack. The stack  \n",
    "    # holds indexes of histogram[] list.  \n",
    "    # The bars stored in the stack are \n",
    "    # always in increasing order of  \n",
    "    # their heights. \n",
    "    stack = list() \n",
    "  \n",
    "    max_area = 0 # Initialize max area \n",
    "  \n",
    "    # Run through all bars of \n",
    "    # given histogram \n",
    "    index = 0\n",
    "    while index < len(histogram): \n",
    "          \n",
    "        # If this bar is higher  \n",
    "        # than the bar on top \n",
    "        # stack, push it to stack \n",
    "  \n",
    "        if (not stack) or (histogram[stack[-1]] <= histogram[index]): \n",
    "            stack.append(index) \n",
    "            index += 1\n",
    "  \n",
    "        # If this bar is lower than top of stack, \n",
    "        # then calculate area of rectangle with  \n",
    "        # stack top as the smallest (or minimum \n",
    "        # height) bar.'i' is 'right index' for  \n",
    "        # the top and element before top in stack \n",
    "        # is 'left index' \n",
    "        else: \n",
    "            # pop the top \n",
    "            top_of_stack = stack.pop() \n",
    "  \n",
    "            # Calculate the area with  \n",
    "            # histogram[top_of_stack] stack \n",
    "            # as smallest bar \n",
    "            area = (histogram[top_of_stack] * \n",
    "                   ((index - stack[-1] - 1)  \n",
    "                   if stack else index)) \n",
    "  \n",
    "            # update max area, if needed \n",
    "            max_area = max(max_area, area) \n",
    "  \n",
    "    # Now pop the remaining bars from  \n",
    "    # stack and calculate area with  \n",
    "    # every popped bar as the smallest bar \n",
    "    while stack: \n",
    "          \n",
    "        # pop the top \n",
    "        top_of_stack = stack.pop() \n",
    "  \n",
    "        # Calculate the area with  \n",
    "        # histogram[top_of_stack]  \n",
    "        # stack as smallest bar \n",
    "        area = (histogram[top_of_stack] * \n",
    "              ((index - stack[-1] - 1)  \n",
    "                if stack else index)) \n",
    "  \n",
    "        # update max area, if needed \n",
    "        max_area = max(max_area, area) \n",
    "  \n",
    "    # Return maximum area under  \n",
    "    # the given histogram \n",
    "    return max_area "
   ]
  },
  {
   "cell_type": "code",
   "execution_count": 362,
   "metadata": {
    "collapsed": false
   },
   "outputs": [
    {
     "name": "stdout",
     "output_type": "stream",
     "text": [
      "Maximum area is 15\n"
     ]
    }
   ],
   "source": [
    "print(\"Maximum area is\",  max_area_histogram2(arr)) "
   ]
  },
  {
   "cell_type": "code",
   "execution_count": 363,
   "metadata": {
    "collapsed": false
   },
   "outputs": [
    {
     "name": "stdout",
     "output_type": "stream",
     "text": [
      "Maximum area is 15\n"
     ]
    }
   ],
   "source": [
    "print(\"Maximum area is\",  max_area_histogram2(arr1)) "
   ]
  },
  {
   "cell_type": "code",
   "execution_count": 364,
   "metadata": {
    "collapsed": false
   },
   "outputs": [
    {
     "name": "stdout",
     "output_type": "stream",
     "text": [
      "Maximum area is 6\n"
     ]
    }
   ],
   "source": [
    "print(\"Maximum area is\",  max_area_histogram2(arr2)) "
   ]
  },
  {
   "cell_type": "code",
   "execution_count": 365,
   "metadata": {
    "collapsed": false
   },
   "outputs": [
    {
     "name": "stdout",
     "output_type": "stream",
     "text": [
      "Maximum area is 12\n"
     ]
    }
   ],
   "source": [
    "print(\"Maximum area is\",  max_area_histogram2(arr3)) "
   ]
  },
  {
   "cell_type": "code",
   "execution_count": 366,
   "metadata": {
    "collapsed": false
   },
   "outputs": [
    {
     "name": "stdout",
     "output_type": "stream",
     "text": [
      "Maximum area is 4\n"
     ]
    }
   ],
   "source": [
    "print(\"Maximum area is\",  max_area_histogram2(arr4)) "
   ]
  },
  {
   "cell_type": "code",
   "execution_count": 367,
   "metadata": {
    "collapsed": false
   },
   "outputs": [
    {
     "name": "stdout",
     "output_type": "stream",
     "text": [
      "Maximum area is 20\n"
     ]
    }
   ],
   "source": [
    "print(\"Maximum area is\",  max_area_histogram2(arr5)) "
   ]
  },
  {
   "cell_type": "code",
   "execution_count": null,
   "metadata": {
    "collapsed": true
   },
   "outputs": [],
   "source": []
  }
 ],
 "metadata": {
  "anaconda-cloud": {},
  "kernelspec": {
   "display_name": "Python [conda root]",
   "language": "python",
   "name": "conda-root-py"
  },
  "language_info": {
   "codemirror_mode": {
    "name": "ipython",
    "version": 3
   },
   "file_extension": ".py",
   "mimetype": "text/x-python",
   "name": "python",
   "nbconvert_exporter": "python",
   "pygments_lexer": "ipython3",
   "version": "3.5.2"
  }
 },
 "nbformat": 4,
 "nbformat_minor": 1
}
