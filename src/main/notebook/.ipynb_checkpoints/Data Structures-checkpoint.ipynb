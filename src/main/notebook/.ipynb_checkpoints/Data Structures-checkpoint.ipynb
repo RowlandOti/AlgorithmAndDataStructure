{
 "cells": [
  {
   "cell_type": "markdown",
   "metadata": {},
   "source": [
    "## Stack"
   ]
  },
  {
   "cell_type": "code",
   "execution_count": 17,
   "metadata": {},
   "outputs": [
    {
     "name": "stdout",
     "output_type": "stream",
     "text": [
      "4321\n",
      "-4321\n",
      "0\n"
     ]
    }
   ],
   "source": [
    "num = 1234\n",
    "\n",
    "def reverse_int(num):\n",
    "    sign = -1 if num < 0 else 1\n",
    "    num_str = str(abs(num))\n",
    "    if int(num_str) > 2**31:\n",
    "        return 0\n",
    "    stack = [i for i in num_str]   \n",
    "    reversed = \"\".join([stack.pop() for i in range(len(stack))])\n",
    "    return int(reversed) * sign\n",
    "\n",
    "print(reverse_int(num))\n",
    "print(reverse_int(-num))\n",
    "print(reverse_int(-3039494994949494))"
   ]
  },
  {
   "cell_type": "code",
   "execution_count": 3,
   "metadata": {},
   "outputs": [],
   "source": [
    "from queue import Queue\n",
    "from queue import LifoQueue\n",
    "from collections import deque"
   ]
  },
  {
   "cell_type": "code",
   "execution_count": 4,
   "metadata": {},
   "outputs": [
    {
     "data": {
      "text/plain": [
       "'4321'"
      ]
     },
     "execution_count": 4,
     "metadata": {},
     "output_type": "execute_result"
    }
   ],
   "source": [
    "str(num)[::-1]"
   ]
  },
  {
   "cell_type": "code",
   "execution_count": 15,
   "metadata": {},
   "outputs": [
    {
     "name": "stdout",
     "output_type": "stream",
     "text": [
      "4321\n",
      "-4321\n",
      "0\n"
     ]
    }
   ],
   "source": [
    "def reverse_int(num):\n",
    "    sign = -1 if num < 0 else 1\n",
    "    num_str = str(abs(num))\n",
    "    if abs(num) > 2**31:\n",
    "        return 0\n",
    "    \n",
    "    return int(num_str[::-1]) * sign\n",
    "\n",
    "print(reverse_int(num))\n",
    "print(reverse_int(-num))\n",
    "print(reverse_int(-3039494994949494))"
   ]
  },
  {
   "cell_type": "code",
   "execution_count": 16,
   "metadata": {},
   "outputs": [
    {
     "name": "stdout",
     "output_type": "stream",
     "text": [
      "4321\n",
      "-4321\n",
      "-4949494994949303\n"
     ]
    }
   ],
   "source": [
    "def reverse_int_div(num):\n",
    "    sign = -1 if num < 0 else 1\n",
    "    num = abs(num)\n",
    "    reverse = 0\n",
    "    while num > 0:\n",
    "        reverse = reverse * 10 + num % 10\n",
    "        num = num //10\n",
    "    return reverse * sign\n",
    "        \n",
    "\n",
    "print(reverse_int_div(num))\n",
    "print(reverse_int_div(-num))\n",
    "print(reverse_int_div(-3039494994949494))"
   ]
  },
  {
   "cell_type": "code",
   "execution_count": 19,
   "metadata": {},
   "outputs": [
    {
     "name": "stdout",
     "output_type": "stream",
     "text": [
      "00000010100101000001111010011100\n",
      "00111001011110000010100101000000\n"
     ]
    }
   ],
   "source": [
    "def reverse_bits(num):\n",
    "    \n",
    "    trail_zero = []\n",
    "    for i in str(num):\n",
    "        if i is \"0\":\n",
    "            trail_zero.append(i)\n",
    "        else:\n",
    "            break\n",
    "            \n",
    "    num_str = list(str(int(num)))\n",
    "    num_str = num_str[::-1]\n",
    "    num_str = num_str + trail_zero\n",
    "    return \"\".join(num_str)\n",
    "\n",
    "num = \"00000010100101000001111010011100\"\n",
    "print(num)\n",
    "print(reverse_bits(num))"
   ]
  },
  {
   "cell_type": "code",
   "execution_count": 24,
   "metadata": {},
   "outputs": [
    {
     "name": "stdout",
     "output_type": "stream",
     "text": [
      "6079\n",
      "9706\n"
     ]
    }
   ],
   "source": [
    "def reverse_bits_for_int(num):\n",
    "    b_num = bin(num)[2:]\n",
    "    trail_zero = []\n",
    "    for i in str(b_num):\n",
    "        if i is \"0\":\n",
    "            trail_zero.append(i)\n",
    "        else:\n",
    "            break\n",
    "            \n",
    "    num_str = list(str(int(num)))\n",
    "    num_str = num_str[::-1]\n",
    "    num_str = num_str + trail_zero\n",
    "    \n",
    "    rev = 0\n",
    "    for exp, bit in enumerate(num_str[::-1]):\n",
    "        rev += int(bit) * 2 **exp\n",
    "        \n",
    "    return rev\n",
    "\n",
    "num = \"6079\"\n",
    "print(num)\n",
    "print(reverse_bits(num))"
   ]
  },
  {
   "cell_type": "code",
   "execution_count": 18,
   "metadata": {},
   "outputs": [
    {
     "data": {
      "text/plain": [
       "'0b111100011001000011'"
      ]
     },
     "execution_count": 18,
     "metadata": {},
     "output_type": "execute_result"
    }
   ],
   "source": [
    "bin(247363)"
   ]
  },
  {
   "cell_type": "code",
   "execution_count": 1,
   "metadata": {},
   "outputs": [
    {
     "name": "stdout",
     "output_type": "stream",
     "text": [
      "Counter({1: 4, 2: 4, 3: 2, 5: 2, 4: 1})\n",
      "dict_values([4, 4, 2, 1, 2])\n",
      "dict_keys([1, 2, 3, 4, 5])\n",
      "[(1, 4), (2, 4), (3, 2)]\n"
     ]
    }
   ],
   "source": [
    "import collections\n",
    "a = [1,1,1,1,2,2,2,2,3,3,4,5,5]\n",
    "counter=collections.Counter(a)\n",
    "print(counter)\n",
    "# Counter({1: 4, 2: 4, 3: 2, 5: 2, 4: 1})\n",
    "print(counter.values())\n",
    "# [4, 4, 2, 1, 2]\n",
    "print(counter.keys())\n",
    "# [1, 2, 3, 4, 5]\n",
    "print(counter.most_common(3))\n",
    "# [(1, 4), (2, 4), (3, 2)]"
   ]
  },
  {
   "cell_type": "code",
   "execution_count": 5,
   "metadata": {},
   "outputs": [
    {
     "name": "stdout",
     "output_type": "stream",
     "text": [
      "Counter({'s': 3, 'd': 3, 'g': 2, 'b': 1, 'h': 1, 'c': 1})\n",
      "dict_values([3, 1, 2, 1, 3, 1])\n",
      "dict_keys(['s', 'b', 'g', 'h', 'd', 'c'])\n",
      "[('s', 3), ('d', 3), ('g', 2)]\n"
     ]
    }
   ],
   "source": [
    "a = \"sssbghgdcdd\"\n",
    "counter=collections.Counter(a)\n",
    "print(counter)\n",
    "# Counter({1: 4, 2: 4, 3: 2, 5: 2, 4: 1})\n",
    "print(counter.values())\n",
    "# [4, 4, 2, 1, 2]\n",
    "print(counter.keys())\n",
    "# [1, 2, 3, 4, 5]\n",
    "print(counter.most_common(3))\n",
    "# [(1, 4), (2, 4), (3, 2)]"
   ]
  },
  {
   "cell_type": "code",
   "execution_count": 12,
   "metadata": {},
   "outputs": [
    {
     "name": "stdout",
     "output_type": "stream",
     "text": [
      "c1s3\n",
      "c1s3b1\n",
      "c1s3b1g2\n",
      "c1s3b1g2h1\n",
      "c1s3b1g2h1d3\n",
      "c1s3b1g2h1d3c1\n"
     ]
    }
   ],
   "source": [
    "for k, v in counter.items():\n",
    "    x += str(k) + str(v)\n",
    "    print (x)"
   ]
  },
  {
   "cell_type": "code",
   "execution_count": 20,
   "metadata": {},
   "outputs": [
    {
     "name": "stdout",
     "output_type": "stream",
     "text": [
      "{1: 4, 2: 4, 3: 2, 4: 1, 5: 2}\n"
     ]
    },
    {
     "ename": "AttributeError",
     "evalue": "'dict_keys' object has no attribute 'pop'",
     "output_type": "error",
     "traceback": [
      "\u001b[0;31m---------------------------------------------------------------------------\u001b[0m",
      "\u001b[0;31mAttributeError\u001b[0m                            Traceback (most recent call last)",
      "\u001b[0;32m<ipython-input-20-207f3435caed>\u001b[0m in \u001b[0;36m<module>\u001b[0;34m()\u001b[0m\n\u001b[1;32m      3\u001b[0m \u001b[0mprint\u001b[0m\u001b[0;34m(\u001b[0m\u001b[0md\u001b[0m\u001b[0;34m)\u001b[0m\u001b[0;34m\u001b[0m\u001b[0m\n\u001b[1;32m      4\u001b[0m \u001b[0ma\u001b[0m\u001b[0;34m,\u001b[0m \u001b[0mb\u001b[0m \u001b[0;34m=\u001b[0m \u001b[0md\u001b[0m\u001b[0;34m.\u001b[0m\u001b[0mkeys\u001b[0m\u001b[0;34m(\u001b[0m\u001b[0;34m)\u001b[0m\u001b[0;34m,\u001b[0m \u001b[0md\u001b[0m\u001b[0;34m.\u001b[0m\u001b[0mvalues\u001b[0m\u001b[0;34m(\u001b[0m\u001b[0;34m)\u001b[0m\u001b[0;34m\u001b[0m\u001b[0m\n\u001b[0;32m----> 5\u001b[0;31m \u001b[0mprint\u001b[0m\u001b[0;34m(\u001b[0m\u001b[0ma\u001b[0m\u001b[0;34m.\u001b[0m\u001b[0mpop\u001b[0m\u001b[0;34m(\u001b[0m\u001b[0;34m)\u001b[0m\u001b[0;34m)\u001b[0m\u001b[0;34m\u001b[0m\u001b[0m\n\u001b[0m\u001b[1;32m      6\u001b[0m \u001b[0mprint\u001b[0m\u001b[0;34m(\u001b[0m\u001b[0mb\u001b[0m\u001b[0;34m)\u001b[0m\u001b[0;34m\u001b[0m\u001b[0m\n",
      "\u001b[0;31mAttributeError\u001b[0m: 'dict_keys' object has no attribute 'pop'"
     ]
    }
   ],
   "source": [
    "a = [1,1,1,1,2,2,2,2,3,3,4,5,5]\n",
    "d = {x:a.count(x) for x in a}\n",
    "print(d)\n",
    "a, b = d.keys(), d.values()\n",
    "print(a)\n",
    "print(b)"
   ]
  },
  {
   "cell_type": "code",
   "execution_count": null,
   "metadata": {},
   "outputs": [],
   "source": []
  }
 ],
 "metadata": {
  "kernelspec": {
   "display_name": "Python 3",
   "language": "python",
   "name": "python3"
  },
  "language_info": {
   "codemirror_mode": {
    "name": "ipython",
    "version": 3
   },
   "file_extension": ".py",
   "mimetype": "text/x-python",
   "name": "python",
   "nbconvert_exporter": "python",
   "pygments_lexer": "ipython3",
   "version": "3.6.5"
  }
 },
 "nbformat": 4,
 "nbformat_minor": 2
}
