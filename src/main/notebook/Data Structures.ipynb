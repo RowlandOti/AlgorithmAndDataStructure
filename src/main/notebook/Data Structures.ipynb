{
 "cells": [
  {
   "cell_type": "markdown",
   "metadata": {},
   "source": [
    "## Stack"
   ]
  },
  {
   "cell_type": "code",
   "execution_count": 33,
   "metadata": {
    "collapsed": false
   },
   "outputs": [
    {
     "name": "stdout",
     "output_type": "stream",
     "text": [
      "4321\n",
      "-4321\n",
      "0\n"
     ]
    }
   ],
   "source": [
    "num = 1234\n",
    "\n",
    "def reverse_int(num):\n",
    "    sign = -1 if num < 0 else 1\n",
    "    num_str = str(abs(num))\n",
    "    if int(num_str) > 2**31:\n",
    "        return 0\n",
    "    stack = [i for i in num_str]   \n",
    "    reversed = \"\".join([stack.pop() for i in range(len(stack))])\n",
    "    return int(reversed) * sign\n",
    "\n",
    "print(reverse_int(num))\n",
    "print(reverse_int(-num))\n",
    "print(reverse_int(-3039494994949494))"
   ]
  },
  {
   "cell_type": "code",
   "execution_count": 34,
   "metadata": {
    "collapsed": true
   },
   "outputs": [],
   "source": [
    "from queue import Queue\n",
    "from queue import LifoQueue\n",
    "from collections import deque"
   ]
  },
  {
   "cell_type": "code",
   "execution_count": 18,
   "metadata": {
    "collapsed": false
   },
   "outputs": [
    {
     "data": {
      "text/plain": [
       "'4321'"
      ]
     },
     "execution_count": 18,
     "metadata": {},
     "output_type": "execute_result"
    }
   ],
   "source": [
    "str(num)[::-1]"
   ]
  },
  {
   "cell_type": "code",
   "execution_count": 19,
   "metadata": {
    "collapsed": false
   },
   "outputs": [
    {
     "name": "stdout",
     "output_type": "stream",
     "text": [
      "4321\n",
      "-4321\n",
      "0\n"
     ]
    }
   ],
   "source": [
    "def reverse_int(num):\n",
    "    sign = -1 if num < 0 else 1\n",
    "    num_str = str(abs(num))\n",
    "    if abs(num) > 2**31:\n",
    "        return 0\n",
    "    \n",
    "    return int(num_str[::-1]) * sign\n",
    "\n",
    "print(reverse_int(num))\n",
    "print(reverse_int(-num))\n",
    "print(reverse_int(-3039494994949494))"
   ]
  },
  {
   "cell_type": "code",
   "execution_count": 22,
   "metadata": {
    "collapsed": false
   },
   "outputs": [
    {
     "name": "stdout",
     "output_type": "stream",
     "text": [
      "4321\n",
      "-4321\n",
      "-4949494994949303\n"
     ]
    }
   ],
   "source": [
    "def reverse_int_div(num):\n",
    "    sign = -1 if num < 0 else 1\n",
    "    num = abs(num)\n",
    "    reverse = 0\n",
    "    while num > 0:\n",
    "        reverse = reverse * 10 + num % 10\n",
    "        num = num //10\n",
    "    return reverse * sign\n",
    "        \n",
    "\n",
    "print(reverse_int_div(num))\n",
    "print(reverse_int_div(-num))\n",
    "print(reverse_int_div(-3039494994949494))"
   ]
  },
  {
   "cell_type": "code",
   "execution_count": 32,
   "metadata": {
    "collapsed": false
   },
   "outputs": [
    {
     "name": "stdout",
     "output_type": "stream",
     "text": [
      "00000010100101000001111010011100\n",
      "00111001011110000010100101000000\n"
     ]
    }
   ],
   "source": [
    "def reverse_bits(num):\n",
    "    \n",
    "    trail_zero = []\n",
    "    for i in str(num):\n",
    "        if i is \"0\":\n",
    "            trail_zero.append(i)\n",
    "        else:\n",
    "            break\n",
    "            \n",
    "    num_str = list(str(int(num)))\n",
    "    num_str = num_str[::-1]\n",
    "    num_str = num_str + trail_zero\n",
    "    return \"\".join(num_str)\n",
    "\n",
    "num = \"00000010100101000001111010011100\"\n",
    "print(num)\n",
    "print(reverse_bits(num))"
   ]
  },
  {
   "cell_type": "code",
   "execution_count": 24,
   "metadata": {
    "collapsed": false
   },
   "outputs": [
    {
     "name": "stdout",
     "output_type": "stream",
     "text": [
      "6079\n",
      "9706\n"
     ]
    }
   ],
   "source": [
    "def reverse_bits_for_int(num):\n",
    "    b_num = bin(num)[2:]\n",
    "    trail_zero = []\n",
    "    for i in str(b_num):\n",
    "        if i is \"0\":\n",
    "            trail_zero.append(i)\n",
    "        else:\n",
    "            break\n",
    "            \n",
    "    num_str = list(str(int(num)))\n",
    "    num_str = num_str[::-1]\n",
    "    num_str = num_str + trail_zero\n",
    "    \n",
    "    rev = 0\n",
    "    for exp, bit in enumerate(num_str[::-1]):\n",
    "        rev += int(bit) * 2 **exp\n",
    "        \n",
    "    return rev\n",
    "\n",
    "num = \"6079\"\n",
    "print(num)\n",
    "print(reverse_bits(num))"
   ]
  },
  {
   "cell_type": "code",
   "execution_count": 31,
   "metadata": {
    "collapsed": false
   },
   "outputs": [
    {
     "data": {
      "text/plain": [
       "'0b111100011001000011'"
      ]
     },
     "execution_count": 31,
     "metadata": {},
     "output_type": "execute_result"
    }
   ],
   "source": [
    "bin(247363)"
   ]
  },
  {
   "cell_type": "code",
   "execution_count": 41,
   "metadata": {
    "collapsed": true
   },
   "outputs": [],
   "source": [
    "# you can write to stdout for debugging purposes, e.g.\n",
    "# print(\"this is a debug message\")\n",
    "\n",
    "def solution(N):\n",
    "    # write your code in Python 3.6\n",
    "    linkedList = LinkedList()\n",
    "    for i in str(N):\n",
    "        linkedList.append(i)\n",
    "    \n",
    "    current = linkedList.head\n",
    "    while(current.nexs != None):\n",
    "        print(current.data)\n",
    "        current = current.nexs\n",
    "    print(current.data)\n",
    "    \n",
    "class Node:\n",
    "    def __init__(self, data, nexs=None):\n",
    "        self.data = data\n",
    "        self.nexs = nexs\n",
    "        \n",
    "class LinkedList:\n",
    "    def __init__(self):\n",
    "        self.head = None\n",
    "        \n",
    "    def append(self,data):\n",
    "        if(self.head == None):\n",
    "            self.head = Node(data)\n",
    "            return\n",
    "        \n",
    "        current = self.head\n",
    "        while(current.nexs != None):\n",
    "            current = current.nexs\n",
    "            \n",
    "        current.nexs = Node(data)\n",
    "        \n",
    "        \n",
    "    def prepend(self,data):\n",
    "        newNode = Node(data)\n",
    "        newNode.nexs = self.head\n",
    "        head.nexs =newMode\n"
   ]
  },
  {
   "cell_type": "code",
   "execution_count": 42,
   "metadata": {
    "collapsed": false
   },
   "outputs": [
    {
     "name": "stdout",
     "output_type": "stream",
     "text": [
      "3\n",
      "4\n",
      "4\n"
     ]
    }
   ],
   "source": [
    "solution(344)"
   ]
  },
  {
   "cell_type": "code",
   "execution_count": 43,
   "metadata": {
    "collapsed": true
   },
   "outputs": [],
   "source": [
    "def solution(S):\n",
    "    V = int(S, 2)\n",
    "    count_steps = 0\n",
    "    while (V > 0) :\n",
    "        if(V % 2 == 0):\n",
    "            V =  V//2\n",
    "            count_steps += 1\n",
    "        else:\n",
    "            V = V - 6\n",
    "            count_steps += 1\n",
    "          \n",
    "    return count_steps"
   ]
  },
  {
   "cell_type": "code",
   "execution_count": null,
   "metadata": {
    "collapsed": true
   },
   "outputs": [],
   "source": [
    "\n",
    "def solution(A):\n",
    "\n",
    "    # Above is not effificent - lets look for  n log n\n",
    "    \n",
    "    pairCount = 0\n",
    "    pairCountDict = {}\n",
    "    \n",
    "    for i in A:\n",
    "        if i in pairCountDict:\n",
    "            pairCountDict[i] = pairCountDict[i] + 1\n",
    "            if pairCountDict[i] > 1:\n",
    "                pairCount += pairCountDict[i]\n",
    "            else:\n",
    "                pairCount = pairCount + 1\n",
    "        else:\n",
    "            pairCountDict[i] = 0\n",
    "    \n",
    "    return pairCount\n"
   ]
  }
 ],
 "metadata": {
  "anaconda-cloud": {},
  "kernelspec": {
   "display_name": "Python [default]",
   "language": "python",
   "name": "python3"
  },
  "language_info": {
   "codemirror_mode": {
    "name": "ipython",
    "version": 3
   },
   "file_extension": ".py",
   "mimetype": "text/x-python",
   "name": "python",
   "nbconvert_exporter": "python",
   "pygments_lexer": "ipython3",
   "version": "3.5.2"
  }
 },
 "nbformat": 4,
 "nbformat_minor": 2
}
